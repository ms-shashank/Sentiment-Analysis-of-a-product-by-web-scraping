{
 "cells": [
  {
   "cell_type": "code",
   "execution_count": 2,
   "metadata": {
    "metadata": {}
   },
   "outputs": [],
   "source": [
    "# Data manipulation\n",
    "import pandas as pd\n",
    "import numpy as np\n",
    "\n",
    "# Options for pandas\n",
    "pd.options.display.max_columns = None\n",
    "pd.options.display.max_rows = None\n",
    "\n",
    "pd.options.display.max_colwidth= None\n",
    "\n",
    "# Display all cell outputs\n",
    "from IPython.core.interactiveshell import InteractiveShell\n",
    "InteractiveShell.ast_node_interactivity = 'all'\n",
    "\n",
    "from nltk.tokenize import RegexpTokenizer\n",
    "from nltk.corpus import stopwords\n",
    "from nltk.stem.snowball import SnowballStemmer\n",
    "from gensim import corpora, models\n",
    "import gensim\n",
    "import nltk\n",
    "##nltk.download(\"stopwords\")\n",
    "\n",
    "\n",
    "\n",
    "\n",
    "# Visualizations\n",
    "import plotly.express as px\n",
    "\n",
    "import matplotlib.pyplot as plt\n",
    "import seaborn as sns\n",
    "import re\n",
    "\n",
    "\n",
    "import gensim\n",
    "from gensim import corpora\n",
    "\n",
    "# libraries for visualization\n",
    "import pyLDAvis\n",
    "import pyLDAvis.gensim"
   ]
  },
  {
   "cell_type": "code",
   "execution_count": 3,
   "metadata": {
    "metadata": {}
   },
   "outputs": [
    {
     "data": {
      "text/html": [
       "<div>\n",
       "<style scoped>\n",
       "    .dataframe tbody tr th:only-of-type {\n",
       "        vertical-align: middle;\n",
       "    }\n",
       "\n",
       "    .dataframe tbody tr th {\n",
       "        vertical-align: top;\n",
       "    }\n",
       "\n",
       "    .dataframe thead th {\n",
       "        text-align: right;\n",
       "    }\n",
       "</style>\n",
       "<table border=\"1\" class=\"dataframe\">\n",
       "  <thead>\n",
       "    <tr style=\"text-align: right;\">\n",
       "      <th></th>\n",
       "      <th>Review Title</th>\n",
       "      <th>Rating</th>\n",
       "      <th>Review Body</th>\n",
       "    </tr>\n",
       "  </thead>\n",
       "  <tbody>\n",
       "    <tr>\n",
       "      <th>0</th>\n",
       "      <td>One of the best innovation from apple</td>\n",
       "      <td>5.0 out of 5 stars</td>\n",
       "      <td>\\nGreat phone with perfect camera quality , battery life is 100 no over heating charging 8s decent.Best in stability.Brightness is good.Certainly awesome\\n</td>\n",
       "    </tr>\n",
       "    <tr>\n",
       "      <th>1</th>\n",
       "      <td>Just amazing!</td>\n",
       "      <td>5.0 out of 5 stars</td>\n",
       "      <td>\\nJust amazing product. Actually I like to purchase online products but as it's so expensive, I tried to purchase from local store in Barasat but they told me 8 thousand more than online price (Only phone's price)😀 even without charger, screen protector and back cover.I got it on online with everything only ₹1,52,000. Although it was a little difficult to buy, as you know it is not easy to transfer the higher amounts within short time. 😀However, Thanks to Amazon team and specially thanks to my IDOL \"Steve Jobs\" 🙏🤗\\n</td>\n",
       "    </tr>\n",
       "    <tr>\n",
       "      <th>2</th>\n",
       "      <td>good</td>\n",
       "      <td>5.0 out of 5 stars</td>\n",
       "      <td>\\nso lagg cant even play hill climb racing smoothly . dont waste money . nokia is better buy nokia 11 pro max that can run everything smoothly\\n</td>\n",
       "    </tr>\n",
       "    <tr>\n",
       "      <th>3</th>\n",
       "      <td>Super beautiful</td>\n",
       "      <td>5.0 out of 5 stars</td>\n",
       "      <td>\\n\\n\\n\\n\\n                    The media could not be loaded.\\n                \\n\\n\\n\\nPhone is just amazing and\\n</td>\n",
       "    </tr>\n",
       "    <tr>\n",
       "      <th>4</th>\n",
       "      <td>Best camera quality</td>\n",
       "      <td>5.0 out of 5 stars</td>\n",
       "      <td>NaN</td>\n",
       "    </tr>\n",
       "  </tbody>\n",
       "</table>\n",
       "</div>"
      ],
      "text/plain": [
       "                            Review Title              Rating  \\\n",
       "0  One of the best innovation from apple  5.0 out of 5 stars   \n",
       "1                          Just amazing!  5.0 out of 5 stars   \n",
       "2                                   good  5.0 out of 5 stars   \n",
       "3                        Super beautiful  5.0 out of 5 stars   \n",
       "4                    Best camera quality  5.0 out of 5 stars   \n",
       "\n",
       "                                                                                                                                                                                                                                                                                                                                                                                                                                                                                                                                 Review Body  \n",
       "0                                                                                                                                                                                                                                                                                                                                                                                \\nGreat phone with perfect camera quality , battery life is 100 no over heating charging 8s decent.Best in stability.Brightness is good.Certainly awesome\\n  \n",
       "1  \\nJust amazing product. Actually I like to purchase online products but as it's so expensive, I tried to purchase from local store in Barasat but they told me 8 thousand more than online price (Only phone's price)😀 even without charger, screen protector and back cover.I got it on online with everything only ₹1,52,000. Although it was a little difficult to buy, as you know it is not easy to transfer the higher amounts within short time. 😀However, Thanks to Amazon team and specially thanks to my IDOL \"Steve Jobs\" 🙏🤗\\n  \n",
       "2                                                                                                                                                                                                                                                                                                                                                                                           \\nso lagg cant even play hill climb racing smoothly . dont waste money . nokia is better buy nokia 11 pro max that can run everything smoothly\\n  \n",
       "3                                                                                                                                                                                                                                                                                                                                                                                                                          \\n\\n\\n\\n\\n                    The media could not be loaded.\\n                \\n\\n\\n\\nPhone is just amazing and\\n  \n",
       "4                                                                                                                                                                                                                                                                                                                                                                                                                                                                                                                                        NaN  "
      ]
     },
     "execution_count": 3,
     "metadata": {},
     "output_type": "execute_result"
    }
   ],
   "source": [
    "df = pd.read_csv(\"reviews.csv\", sep = \",\")\n",
    "df.head()"
   ]
  },
  {
   "cell_type": "code",
   "execution_count": 4,
   "metadata": {
    "metadata": {}
   },
   "outputs": [
    {
     "data": {
      "text/plain": [
       "(87, 3)"
      ]
     },
     "execution_count": 4,
     "metadata": {},
     "output_type": "execute_result"
    }
   ],
   "source": [
    "train = df\n",
    "train.shape"
   ]
  },
  {
   "cell_type": "code",
   "execution_count": 5,
   "metadata": {
    "metadata": {}
   },
   "outputs": [
    {
     "name": "stdout",
     "output_type": "stream",
     "text": [
      "<class 'pandas.core.frame.DataFrame'>\n",
      "RangeIndex: 87 entries, 0 to 86\n",
      "Data columns (total 3 columns):\n",
      " #   Column        Non-Null Count  Dtype \n",
      "---  ------        --------------  ----- \n",
      " 0   Review Title  87 non-null     object\n",
      " 1   Rating        87 non-null     object\n",
      " 2   Review Body   81 non-null     object\n",
      "dtypes: object(3)\n",
      "memory usage: 2.2+ KB\n"
     ]
    }
   ],
   "source": [
    "train.info()"
   ]
  },
  {
   "cell_type": "code",
   "execution_count": 6,
   "metadata": {
    "metadata": {}
   },
   "outputs": [
    {
     "data": {
      "text/plain": [
       "pandas.core.series.Series"
      ]
     },
     "execution_count": 6,
     "metadata": {},
     "output_type": "execute_result"
    }
   ],
   "source": [
    "type(train['Review Body'])"
   ]
  },
  {
   "cell_type": "code",
   "execution_count": 7,
   "metadata": {
    "metadata": {}
   },
   "outputs": [
    {
     "data": {
      "text/plain": [
       "0                                                                                                                                                                                                                                                                                                                                                                                  \\nGreat phone with perfect camera quality , battery life is 100 no over heating charging 8s decent.Best in stability.Brightness is good.Certainly awesome\\n\n",
       "1    \\nJust amazing product. Actually I like to purchase online products but as it's so expensive, I tried to purchase from local store in Barasat but they told me 8 thousand more than online price (Only phone's price)😀 even without charger, screen protector and back cover.I got it on online with everything only ₹1,52,000. Although it was a little difficult to buy, as you know it is not easy to transfer the higher amounts within short time. 😀However, Thanks to Amazon team and specially thanks to my IDOL \"Steve Jobs\" 🙏🤗\\n\n",
       "2                                                                                                                                                                                                                                                                                                                                                                                             \\nso lagg cant even play hill climb racing smoothly . dont waste money . nokia is better buy nokia 11 pro max that can run everything smoothly\\n\n",
       "3                                                                                                                                                                                                                                                                                                                                                                                                                            \\n\\n\\n\\n\\n                    The media could not be loaded.\\n                \\n\\n\\n\\nPhone is just amazing and\\n\n",
       "4                                                                                                                                                                                                                                                                                                                                                                                                                                                                                                                                          NaN\n",
       "Name: Review Body, dtype: object"
      ]
     },
     "execution_count": 7,
     "metadata": {},
     "output_type": "execute_result"
    }
   ],
   "source": [
    "train['Review Body'].head()"
   ]
  },
  {
   "cell_type": "code",
   "execution_count": 8,
   "metadata": {
    "metadata": {}
   },
   "outputs": [],
   "source": [
    "#Cleaning Data\n",
    "import re\n",
    "import string\n",
    "import nltk\n",
    "from nltk.corpus import stopwords\n",
    "from nltk.stem import PorterStemmer\n",
    "\n",
    "def clean_text(text):\n",
    "    ps = PorterStemmer()\n",
    "    text1 = re.sub(r\"^https?:\\/\\/.*[\\r\\n]*\", \"\", text)\n",
    "    print(text1)\n",
    "    text_cleaned = \" \".join([x for x in text1 if x not in string.punctuation])\n",
    "    print(text_cleaned)\n",
    "    text_cleaned = text_cleaned.lower()\n",
    "    print(text_cleaned)\n",
    "    text_cleaned = text_cleaned.split(\" \")\n",
    "    print(text_cleaned)\n",
    "    text_tokens = [token for token in text_cleaned if token not in stopwords]\n",
    "    stem_words = [ps.stem(stem) for stem in text_tokens]\n",
    "    text = \" \".join(stem_words)\n",
    "    text_cleaned = re.sub(' +', ' ', text)\n",
    "    return text_cleaned    "
   ]
  },
  {
   "cell_type": "code",
   "execution_count": 9,
   "metadata": {
    "metadata": {}
   },
   "outputs": [],
   "source": [
    "# train['cleaned'] = train['Review Body'].apply(lambda x: re.sub(\"\\n+\",\" \", x))\n",
    "train['cleaned'] = train['Review Body'].apply(lambda x: re.sub(\"\\n+\", \" \", str(x)) if pd.notnull(x) else x)"
   ]
  },
  {
   "cell_type": "code",
   "execution_count": 10,
   "metadata": {
    "metadata": {}
   },
   "outputs": [
    {
     "data": {
      "text/plain": [
       "0                                                                                                                                                                                                                                                                                                                                                                                   Great phone with perfect camera quality , battery life is 100 no over heating charging 8s decent.Best in stability.Brightness is good.Certainly awesome \n",
       "1     Just amazing product. Actually I like to purchase online products but as it's so expensive, I tried to purchase from local store in Barasat but they told me 8 thousand more than online price (Only phone's price)😀 even without charger, screen protector and back cover.I got it on online with everything only ₹1,52,000. Although it was a little difficult to buy, as you know it is not easy to transfer the higher amounts within short time. 😀However, Thanks to Amazon team and specially thanks to my IDOL \"Steve Jobs\" 🙏🤗 \n",
       "2                                                                                                                                                                                                                                                                                                                                                                                              so lagg cant even play hill climb racing smoothly . dont waste money . nokia is better buy nokia 11 pro max that can run everything smoothly \n",
       "3                                                                                                                                                                                                                                                                                                                                                                                                                                                                 The media could not be loaded.                  Phone is just amazing and \n",
       "4                                                                                                                                                                                                                                                                                                                                                                                                                                                                                                                                        NaN\n",
       "Name: cleaned, dtype: object"
      ]
     },
     "execution_count": 10,
     "metadata": {},
     "output_type": "execute_result"
    }
   ],
   "source": [
    "train['cleaned'].head(5)"
   ]
  },
  {
   "cell_type": "code",
   "execution_count": 11,
   "metadata": {
    "metadata": {}
   },
   "outputs": [
    {
     "data": {
      "text/plain": [
       "[' Great phone with perfect camera quality , battery life is 100 no over heating charging 8s decent.Best in stability.Brightness is good.Certainly awesome ',\n",
       " ' Just amazing product. Actually I like to purchase online products but as it\\'s so expensive, I tried to purchase from local store in Barasat but they told me 8 thousand more than online price (Only phone\\'s price)😀 even without charger, screen protector and back cover.I got it on online with everything only ₹1,52,000. Although it was a little difficult to buy, as you know it is not easy to transfer the higher amounts within short time. 😀However, Thanks to Amazon team and specially thanks to my IDOL \"Steve Jobs\" 🙏🤗 ',\n",
       " ' so lagg cant even play hill climb racing smoothly . dont waste money . nokia is better buy nokia 11 pro max that can run everything smoothly ',\n",
       " '                     The media could not be loaded.                  Phone is just amazing and ',\n",
       " nan,\n",
       " ' Nothing to dislike battery life is too goodLove the lookBest camera fetureThis worth the money no regret ✌️Just go & buy it & try it . ',\n",
       " ' The iPhone 15 Pro Max is a powerful and feature-packed device with a stunning display and excellent camera capabilities. However, the high price point may deter some potential buyers. ',\n",
       " ' Best Smartphone EverCamera 10/10Processor 10/10Videography 10/10Display 10/10Speakers 11/10Type C 10/10Battery Backup 11/10Ecosystem 10/10 ',\n",
       " ' Best camera till date and batter last for 1day and it feels very premium when you hold it and due to curve edge it doesn’t irritate ',\n",
       " ' Thanks ',\n",
       " ' I would prefer this over S24 ultra. Used both phones and impressed by this phone. Yes I agree s24 ultra had few more features but in terms of quality 15 pro max wins. And camera quality is far better than s24ultra. But it differs on a customer’s choice. ',\n",
       " nan,\n",
       " nan,\n",
       " \" This Phone is like the Central processing unit (CPU) with a screen. It is fast as thunder and got heated like lava after using it for sometime. Camera is better than reflection of mirror and it's screen and overall body is weaker than a mirror i.e. it breaks easily. \",\n",
       " ' Wow, such a great phone, superfast, great performance, great camera, great looks ',\n",
       " ' A phone that screams that you are doing very well for yourself. Don’t get me wrong, it works extremely well and I am completely satisfied with it. but, it is way too expensive for a phone. I have a pixel 8 which as a secondary phone which costs way less and I am satisfied with that as well. Nevertheless, nothing can replace an iPhone for me due to personal preferences ',\n",
       " ' A17 Pro , 3Nm ,Ray tracing , 5x zoom nailed it completely. A truly freaking flagship mobile so far. iOs 18 will make it more powerful. ',\n",
       " \" As I was aware that what I need and what I was paying for, I needed a quality mobile with best hardware and software combination.I need the OS to be clean without any bloatware which I got.I don't play games. For moderate use of Social media, whatsapp, youtube, audible (audio books), music while exercising, Battery life is around 2 days or sometimes more than 2 days. If you are a gamer or use mobile a lot you might need to charge your mobile everyday.Camera is good. So far the pictures I took the quality is good.Not explore the processor's capacity yet but Never hanged or never will for me (not a heavy user so won't be a problem). \",\n",
       " ' 15 pro max >>>> all androids .  the speed the camera the new ios justtt superbthe resident evil village runs so smoothly ',\n",
       " ' I recently switched from android to iphone. So i am liking the good audio quality, camera and everything. ',\n",
       " ' Accha hai bass aur kya bolu.Haa kabhi lag karta hai,Aur thoda expensive bhi hai.Thanks for watching and future review bhi aate rahenge ',\n",
       " ' Overpriced. It should not cost more than 1.1L. Bought it at 1.6L viz 50K extra I felt. Go for 15 instead of pro max. Overhyped phone this one is ',\n",
       " \" I like in this phone best cameraAnd back glass is not too strong andIt is mild then other iphone's \",\n",
       " ' Iphone always the better than Android , I need the iphone please give me one Amazon please amazon Amazon Amazon ',\n",
       " ' Ultimate performance but some bug issue in 17.2.1 update and FB is not functioning properly….😏😏😏😏😏Lot of BUG issues are experienced in this phone and needs to correct it. ',\n",
       " '                     The media could not be loaded.                  We Know Nowadays There was so much hate spreading on Iphone 15 Series But as i am a techie, i know most of the critics had never used and talking like trash bin. i Using From Past 1 month, If You Love Photography Or Pro-Gaming then you are good to take this smartphone. Just Dont Care The Criticism.I Too Had Feel The Phone Is warm while heavy gaming and Photography, But was never like what had they said in news. I Loved The Photos The Phone Gives. ',\n",
       " ' Good ',\n",
       " nan,\n",
       " ' It’s around 2months I have been using this device and it has been working flawlessly. No heating issues or such. Totally worth the upgrade because of the camera. ',\n",
       " \" If you already have 14 Pro or Pro Max then don't upgrade, but if you've any other Pro or non Pro models go for it. If you need an iPhone with 24-26hr battery life on a single charge then go for Pro Max models. No doubt Apple's 4K 60fps ProRes is really awesome, and the all new type-c port is the best thing Apple has done in years. Also all the type-c cables included in the box are woven design, now expecting this will not turn grey after few months of use. \",\n",
       " ' The phone is really good it had some overheating issue as heard but not faced any it was due to software update now it is all fixed I still did not had any issue regarding overheating. The phone is really fast and the battery life is awesome. The new action button is really handy and useful. The camera is the best camera an iPhone ever had the photos are stunning and spectacular…. I am satisfied with the phone.. ',\n",
       " ' It’s a great buy. I upgraded from XS Max and am so glad I decided to get this. It’s pricey but worth it. Very powerful battery too ',\n",
       " nan,\n",
       " ' It’s a fantastic phone…the feel and comfort in hand is awesome…looks stunning…also the brand appeal of Apple is fabulous. Camera is the best, performance is over the top…really fast and the games you can play are of play station’s…can any other phone do that…also the video quality is very nice… ',\n",
       " ' No heating issue. Even if they exists for you. Use phone on battery saver mode amazing performance  Very good phone. ',\n",
       " ' I like all the things in iphone 15 Promax the camera is the world it is totally amazing product Thanks amazon ',\n",
       " ' Lightning fast,titanium tantrums ',\n",
       " ' Performance very strong Charging ',\n",
       " ' Fast charging ',\n",
       " ' best iphone ever used ',\n",
       " \" Pros :Light weighted ~ My XR weighted more than pro max. It is lighter.Good performance ~ Very smoothGood battery life ~ I charged it 100% at 3 PM now after lazy use it is at 61% at 10.30 PM and Next day till 3.33 PM it is at 18%, which is quite good.Also 5G works good, in my XR there were hardly any networks but it’s antenna is really good. 5G works like a charm.Cons :Heating was there in 16.0.x but fixed in 17.0.1, in 16.0.x it heats up around cam area at the top mainly.Now after the fix,It heated up in 30-40% charging, then heated up again in 70%, at 80% it is cool, and at 100% it was cool. Which is normal, trust me all iPhones heats up, even my XR heats up but is not observable because of the phone cover.Battery took around 2 hours to charge(my battery was at 6% I put up on charging around 1 PM and at 2.45 or 3 PM it was around 100% now I have set the limit to 80% for good battery life)Later at around 100% battery when I used basic app, it heats up a little around cam area but the heat is very minor. Since I am not using any cover so I felt it.Overall after the fix, the heating is resolved completely, so you can be assured in this area.Battery backup is quite good, I am using 80% optimised battery option and y’day night I charged it and today till 8.26 PM it is at 27%, I watched video, shopping apps, social media apps heavily.It keeps a check of your battery charging cycle, since I’m using 80% Limit, the charging has fasten up, it usually takes 35-40 min for 80% and then after it slows down the charging.Durability : I have checked few reviews, the back panel is weak it has high chances of breaking, the front glass is strong but could get scratches.USE COVERS AND TEMPERED. Overall for apple users, it is a beast in performance. Do not panic if this gets heats up, it is an APP and OS issue.I’m observing the apps and OS and the heating area but it is doing brilliant so far.Cam Quality : I am not liking the front camera pictures, it actually overdo the image, you might not like Selfies but there are plenty of options for video and camera. You can shoot in 4K and Raw max, etc.I’m not a selfie lover so it is kinda okay for me but you will def not like the after camera processing selfie image.Sound Quality: The best, superior DOLBY sound quality. I haven’t heard this much of brilliant sound in any of the devices in recent times. Decent sound..!! You will love the music and AV.FYI : It fell down from a meter height but since I had a good case so nothing happened luckily. pls make sure you have a good cover. I saw videos the back panel is weak due to different assembly in this series.PS : I’m not a heavy user. I don't play games, so cannot review on the heat and battery while playing games. \",\n",
       " ' Best performance smartphoneValue for moneyVery light phoneNo heating issuesBest phone if no budget problem for sure ',\n",
       " ' Battery 10/10Cemra 10/10Performance 10/10Disign 10/10Display 10/10Agar pese hai to isse Badiya phone nahi hai market ne Phil haal ',\n",
       " ' When you hold this phone in your hand then only you can realise feeling of holding a premium phone 🍎 ',\n",
       " \" I have purchased natural titanium and it's really awesome. My first phone purchased with my hardwork. Didn't sold my kidney for it 😂😂 \",\n",
       " ' Nice Phn bought under very good price  Super sleek nice handy  vulnerable best rate so budget in hatts of to apple for making value products ',\n",
       " '                     The media could not be loaded.                  Best camera everything feels like pro Outstanding performance battery life and a premium experiencePerforms everything fast and best for gaming and the natural taitanium colour looks so good it looks  grey and diffrent from others ',\n",
       " ' We have received the iPhone 15 Pro Max, natural titanium color, and 256 GB storage capacity. The phone is good-looking and fast. It gets charged with the Apple 20W USB-C Power Adapter  (purchased separately). It also charges well using my 3-year-old Mi wireless charger (Qi charging). Overall, we are happy with the iPhone. ',\n",
       " ' This is my 1 st pro iPhone. And so far I’m really impressed with the performance and simplicity of the product. ',\n",
       " ' No heating issue till now running well with the new software update I have installed lots of apps and the ph is running well ',\n",
       " ' Till this date it is the fastest iPhone for gaming and all over daily usage .Strongest iPhone till now ',\n",
       " ' Superb ',\n",
       " ' Good phone with all thing are there in it.... No need to go for samsung..Just go and enjoy it ',\n",
       " nan,\n",
       " \" Best phone ever seen it's the best phone in the earth worth buyable for those who are 4G iphone users. \",\n",
       " ' Got the info it is in stock from X (twitter). Usually always unavailable.Premium phone from a premium company. Original product. ',\n",
       " ' The aluminium has made the phone very light weight you will immediately feel the difference coming from any previous pro max, worth the upgrade if you are coming from 11 series ',\n",
       " ' The battery is little problem need to charge once in a day. But other then that all good picture quality is epic attached moon pic for example ',\n",
       " ' Battery life is quite bad , honestly the battery life  should be a bit better I this range of price. ',\n",
       " \" In the fast-paced world of smartphones, Apple continues to set the bar high with each new iteration of their iconic iPhone lineup. The iPhone 15 Pro Max is no exception, boasting cutting-edge technology, stunning design, and a plethora of features that promise to elevate your mobile experience to new heights. In this comprehensive review, we'll delve into the positive aspects as well as the potential drawbacks of Apple's latest flagship device.Positive Points:1. Revolutionary Design:The iPhone 15 Pro Max features a sleek and sophisticated design that pushes the boundaries of smartphone aesthetics. With its edge-to-edge display, premium materials, and refined finish, it exudes elegance and craftsmanship. The slim profile and ergonomic curves make it comfortable to hold, while the durable construction ensures longevity.2. Stunning Display:At the heart of the iPhone 15 Pro Max is its mesmerizing display, which sets new standards for clarity, brightness, and color accuracy. The ProMotion OLED panel delivers vibrant colors, deep blacks, and HDR content support for an immersive viewing experience. Whether you're browsing the web, watching movies, or playing games, every detail comes to life with stunning realism.3. Exceptional Performance:Powered by Apple's latest A-series chip, the iPhone 15 Pro Max offers unparalleled performance and efficiency. From multitasking to gaming, every task is handled with lightning speed and responsiveness. The advanced neural engine enhances machine learning capabilities, enabling intelligent features like enhanced photography and augmented reality experiences.4. Revolutionary Camera System:The iPhone 15 Pro Max boasts a revolutionary camera system that redefines smartphone photography. With advanced computational photography features, including improved Night mode, Deep Fusion, and Smart HDR, every shot is optimized for clarity and detail. The ProRAW and ProRes video recording capabilities offer professional-grade flexibility and control, allowing users to unleash their creativity.5. Enhanced Battery Life:Despite its powerful performance and advanced features, the iPhone 15 Pro Max delivers impressive battery life that keeps up with your busy lifestyle. The optimized hardware and software integration ensure efficient power management, allowing you to stay connected and productive throughout the day. With support for fast charging and wireless charging, recharging is faster and more convenient than ever.Negative Points:1. Premium Price Tag:As with previous iPhone models, the iPhone 15 Pro Max comes with a premium price tag that may be prohibitive for some consumers. While the investment is justified by its advanced features and performance, it may not be accessible to budget-conscious buyers.2. Lack of Major Design Changes:While the iPhone 15 Pro Max boasts an impressive design, some critics may argue that it lacks major design changes compared to its predecessors. The overall form factor remains largely unchanged, leading to criticisms of stagnation in design innovation.3. Dependency on Ecosystem:The iPhone 15 Pro Max is part of Apple's ecosystem, which offers seamless integration with other Apple devices and services. While this can be a positive aspect for existing Apple users, it may pose challenges for users who prefer a more open ecosystem or who are heavily invested in competing platforms.4. Incremental Upgrades:Despite its status as a flagship device, some users may perceive the iPhone 15 Pro Max as offering only incremental upgrades over previous models. While the improvements in performance, camera technology, and battery life are notable, they may not be significant enough to justify upgrading for some users.Conclusion:In conclusion, the Apple iPhone 15 Pro Max is a remarkable smartphone that pushes the boundaries of innovation and performance. With its revolutionary design, stunning display, exceptional performance, revolutionary camera system, and enhanced battery life, it offers a truly immersive mobile experience. While it may have some drawbacks such as its premium price tag, lack of major design changes, dependency on ecosystem, and incremental upgrades, its overall strengths far outweigh its weaknesses. Whether you're a tech enthusiast, a professional photographer, or simply someone who demands the best from their smartphone, the iPhone 15 Pro Max delivers in spades. \",\n",
       " ' Camera setting not available, so photos not better than Samsung m34, likely Caller tune should not set, call record not available. Should not connect to laptop. Download space not available ',\n",
       " \" The iPhone 15 pro max is the latest flagship smartphone from Apple, and it offers some impressive features and performance. I have been using it for a month now, and here are my thoughts on it.Design and DisplayThe iPhone 15 pro max has a sleek and elegant design, with a stainless steel frame and a ceramic shield glass back. It is available in four colors: silver, graphite, gold, and pacific blue. The phone is water and dust resistant, and it supports wireless charging and MagSafe accessories.The display is a 6.7-inch OLED screen, with a resolution of 2778 x 1284 pixels and a refresh rate of 120 Hz. The screen is bright, sharp, and smooth, and it supports HDR10 and Dolby Vision. The notch at the top houses the Face ID sensor and the 12 MP selfie camera.Camera and BatteryThe iPhone 15 pro max has a triple rear camera system, consisting of a 12 MP wide-angle lens, a 12 MP telephoto lens, and a 12 MP ultra-wide-angle lens. The camera can capture stunning photos and videos, with optical image stabilization, 5x optical zoom, night mode, portrait mode, and 4K video recording at 60 fps. The camera also supports LiDAR scanning, which enables faster autofocus and better depth sensing.The battery life of the iPhone 15 pro max is excellent, as it can last for a whole day of heavy usage. The phone supports fast charging, and it can reach 50% charge in 30 minutes with a 20W adapter. The phone also supports wireless charging and MagSafe charging, which can deliver up to 15W of power.Performance and SoftwareThe iPhone 15 pro max is powered by the A15 Bionic chip, which is the most advanced processor in the market. The chip has a six-core CPU, a five-core GPU, and a 16-core neural engine. The phone can handle any task or app with ease, and it delivers smooth and fast performance. The phone has 6 GB of RAM and comes in three storage options: 128 GB, 256 GB, and 512 GB.The iPhone 15 pro max runs on iOS 15, which is the latest version of Apple's operating system. iOS 15 offers many new features and improvements, such as widgets, app library, picture-in-picture, app clips, and more. iOS 15 also enhances the privacy and security of the phone, with features like app tracking transparency, sign in with Apple, and Face ID.ConclusionThe iPhone 15 pro max is a premium and powerful smartphone, that offers a great user experience. The phone has a beautiful design and display, a superb camera and battery, and a blazing-fast performance and software. The phone is expensive, but it is worth the money for anyone who wants the best of the best. I would highly recommend the iPhone 15 pro max to anyone who is looking for a high-end smartphone. \",\n",
       " \" Packing is bad. There's a tampered package within a new package. The tampered package contained the phone. But the phone is looking good \",\n",
       " \" I recently upgraded to the Apple 15 Pro Max, and while the enhanced camera is undoubtedly impressive, but I feel that it falls short of delivering a truly groundbreaking experience. If you're already using the 13 pro or 14 Pro, there seems to be little incentive to make the leap.The camera improvements are noteworthy, capturing detail and clarity like never before. However, beyond this feature, the 15 Pro Max doesn't offer a significant leap in terms of innovation. Personally, I find the Pro versions more manageable in hand, and the Max variant, although boasting a larger screen, can be a bit unwieldy.In essence, the 15 Pro Max is a solid device with a stellar camera, but for those already enjoying the perks of the previous Pro models, the upgrade might not feel as compelling. \",\n",
       " ' Camera quality is best ',\n",
       " ' Good product ',\n",
       " ' this is very bad iphone it lacks kanye west it is travis scott and has a jawline it is very ewwwwwwwww we cannot play cricket wws💀💀💀💀 ',\n",
       " ' Hitting problem watching video and charging ',\n",
       " ' Camera Quality not good ',\n",
       " ' If at all looking for pro model just because of lidar and action button and camera. Its not value for money as the charging and performance are not upto the mark for both pro and non pro models. I purchased iPhone 15 pro 128gb not happy ',\n",
       " ' Heats very much during charger. Even if apple type c charger is used.No much difference from 14 pro max. ',\n",
       " ' Its hanging alot,sometimes it doesn’t charge and it act cranking the screen will not work ',\n",
       " \" iPhone battery and multimedia experience was very Poor Quality Don't buy this dumb iPhone 15 Pro Max 256 GB . \",\n",
       " \" Don't buy waste of money otherwise take samsung s25 ultra in so rich it is so because I buy it don't buy \",\n",
       " ' Hate it ssoooooo much it’s 🤢🤢🤢🤢🤢 just kidding it’s the best phone I have ever seen 😁😁😁😁😁 best battery life ',\n",
       " ' iphone 15pro max ios worst pro max I purchased. I already have 13 and 14 pro max, Time to switch to Samsung. The screeenshot you see shows 85% baterrey charge but it has been only 5 min after i made a full charge of the phone ',\n",
       " ' Compare to iphone 14 pro max 15 pro max is very worst.. Past 1 month i used 15 pro max i faced lot of heating issue and battery life is worst.. If you want to buy iphone i recommend 14 pro max ',\n",
       " \" The box had a different colour. I order black Titanium....box was black Titanium but phone was natural titanium inside ...It's heart wrenching...Trust shaken...The phone looks usedIt can happen with Apple product also...it's a shock. \",\n",
       " ' Got a defective product where the camera doest load ',\n",
       " ' box damaged, no new device smell. Completely ruined my unboxing experience. But the phone is amazing. ',\n",
       " ' Hangs a lot! Also lagse when using camera. In settings it shows GS5 PRO MAX VARIENT! 😭😭 I bought it for 60000 ',\n",
       " ' Ek number ghatiya phone. dont waste 2lacs on this. Instead pay me some money if you have too much . Dont buy ',\n",
       " ' Bro 1 v ladki nhi pategi iss phone se... Bhaut bekar hai.... Mera paisa doob gya 2lakh..socha bhaut ladki pategi... Bt ab jaa rha hu duke 390 lene syad usse pat jaye.. Amazon ',\n",
       " \"                     The media could not be loaded.                  Didn't use a screen guard for a week and found a scratch on the screen. What a stupid phone. 160k phone and you will get a scratch without even holding the phone. Better get a screen guard the day you receive the phone. \",\n",
       " \" It seems to be highly expensive and on the other side it's features can't be matched up with Android.It doesn't have fast charging also unlike Android \",\n",
       " ' Very bad phone and exoensiceNot good camera nd performace of 10k phn redmi is better than this even nokia dont buy dont buy ',\n",
       " ' Nothing new in this phone , just getting things repeated in earlier model,  Apple has nothing to offer new,  seems forgotten their tag line , think different ']"
      ]
     },
     "execution_count": 11,
     "metadata": {},
     "output_type": "execute_result"
    }
   ],
   "source": [
    "train['cleaned'].tolist()"
   ]
  },
  {
   "cell_type": "code",
   "execution_count": 12,
   "metadata": {
    "metadata": {}
   },
   "outputs": [
    {
     "data": {
      "text/plain": [
       "[' Great phone with perfect camera quality . battery life is 100 no over heating charging 8s decentBest in stabilityBrightness is goodCertainly awesome ',\n",
       " ' Just amazing product Actually I like to purchase online products but as it\\'s so expensive. I tried to purchase from local store in Barasat but they told me 8 thousand more than online price (Only phone\\'s price)😀 even without charger. screen protector and back coverI got it on online with everything only ₹1.52.000 Although it was a little difficult to buy. as you know it is not easy to transfer the higher amounts within short time 😀However. Thanks to Amazon team and specially thanks to my IDOL \"Steve Jobs\" 🙏🤗 ',\n",
       " ' so lagg cant even play hill climb racing smoothly  dont waste money  nokia is better buy nokia 11 pro max that can run everything smoothly ',\n",
       " ' The media could not be loaded Phone is just amazing and ',\n",
       " nan,\n",
       " ' Nothing to dislike battery life is too goodLove the lookBest camera fetureThis worth the money no regret ✌️Just go & buy it & try it  ',\n",
       " ' The iPhone 15 Pro Max is a powerful and feature-packed device with a stunning display and excellent camera capabilities However. the high price point may deter some potential buyers ',\n",
       " ' Best Smartphone EverCamera 10/10Processor 10/10Videography 10/10Display 10/10Speakers 11/10Type C 10/10Battery Backup 11/10Ecosystem 10/10 ',\n",
       " ' Best camera till date and batter last for 1day and it feels very premium when you hold it and due to curve edge it doesn’t irritate ',\n",
       " ' Thanks ',\n",
       " ' I would prefer this over S24 ultra Used both phones and impressed by this phone Yes I agree s24 ultra had few more features but in terms of quality 15 pro max wins And camera quality is far better than s24ultra But it differs on a customer’s choice ',\n",
       " nan,\n",
       " nan,\n",
       " \" This Phone is like the Central processing unit (CPU) with a screen It is fast as thunder and got heated like lava after using it for sometime Camera is better than reflection of mirror and it's screen and overall body is weaker than a mirror ie it breaks easily \",\n",
       " ' Wow. such a great phone. superfast. great performance. great camera. great looks ',\n",
       " ' A phone that screams that you are doing very well for yourself Don’t get me wrong. it works extremely well and I am completely satisfied with it but. it is way too expensive for a phone I have a pixel 8 which as a secondary phone which costs way less and I am satisfied with that as well Nevertheless. nothing can replace an iPhone for me due to personal preferences ',\n",
       " ' A17 Pro . 3Nm .Ray tracing . 5x zoom nailed it completely A truly freaking flagship mobile so far iOs 18 will make it more powerful ',\n",
       " \" As I was aware that what I need and what I was paying for. I needed a quality mobile with best hardware and software combinationI need the OS to be clean without any bloatware which I gotI don't play games For moderate use of Social media. whatsapp. youtube. audible (audio books). music while exercising. Battery life is around 2 days or sometimes more than 2 days If you are a gamer or use mobile a lot you might need to charge your mobile everydayCamera is good So far the pictures I took the quality is goodNot explore the processor's capacity yet but Never hanged or never will for me (not a heavy user so won't be a problem) \",\n",
       " ' 15 pro max >>>> all androids  the speed the camera the new ios justtt superbthe resident evil village runs so smoothly ',\n",
       " ' I recently switched from android to iphone So i am liking the good audio quality. camera and everything ',\n",
       " ' Accha hai bass aur kya boluHaa kabhi lag karta hai.Aur thoda expensive bhi haiThanks for watching and future review bhi aate rahenge ',\n",
       " ' Overpriced It should not cost more than 11L Bought it at 16L viz 50K extra I felt Go for 15 instead of pro max Overhyped phone this one is ',\n",
       " \" I like in this phone best cameraAnd back glass is not too strong andIt is mild then other iphone's \",\n",
       " ' Iphone always the better than Android . I need the iphone please give me one Amazon please amazon Amazon Amazon ',\n",
       " ' Ultimate performance but some bug issue in 1721 update and FB is not functioning properly…😏😏😏😏😏Lot of BUG issues are experienced in this phone and needs to correct it ',\n",
       " ' The media could not be loaded We Know Nowadays There was so much hate spreading on Iphone 15 Series But as i am a techie. i know most of the critics had never used and talking like trash bin i Using From Past 1 month. If You Love Photography Or Pro-Gaming then you are good to take this smartphone Just Dont Care The CriticismI Too Had Feel The Phone Is warm while heavy gaming and Photography. But was never like what had they said in news I Loved The Photos The Phone Gives ',\n",
       " ' Good ',\n",
       " nan,\n",
       " ' It’s around 2months I have been using this device and it has been working flawlessly No heating issues or such Totally worth the upgrade because of the camera ',\n",
       " \" If you already have 14 Pro or Pro Max then don't upgrade. but if you've any other Pro or non Pro models go for it If you need an iPhone with 24-26hr battery life on a single charge then go for Pro Max models No doubt Apple's 4K 60fps ProRes is really awesome. and the all new type-c port is the best thing Apple has done in years Also all the type-c cables included in the box are woven design. now expecting this will not turn grey after few months of use \",\n",
       " ' The phone is really good it had some overheating issue as heard but not faced any it was due to software update now it is all fixed I still did not had any issue regarding overheating The phone is really fast and the battery life is awesome The new action button is really handy and useful The camera is the best camera an iPhone ever had the photos are stunning and spectacular… I am satisfied with the phone ',\n",
       " ' It’s a great buy I upgraded from XS Max and am so glad I decided to get this It’s pricey but worth it Very powerful battery too ',\n",
       " nan,\n",
       " ' It’s a fantastic phone…the feel and comfort in hand is awesome…looks stunning…also the brand appeal of Apple is fabulous Camera is the best. performance is over the top…really fast and the games you can play are of play station’s…can any other phone do that…also the video quality is very nice… ',\n",
       " ' No heating issue Even if they exists for you Use phone on battery saver mode amazing performance Very good phone ',\n",
       " ' I like all the things in iphone 15 Promax the camera is the world it is totally amazing product Thanks amazon ',\n",
       " ' Lightning fast.titanium tantrums ',\n",
       " ' Performance very strong Charging ',\n",
       " ' Fast charging ',\n",
       " ' best iphone ever used ',\n",
       " \" Pros :Light weighted ~ My XR weighted more than pro max It is lighterGood performance ~ Very smoothGood battery life ~ I charged it 100% at 3 PM now after lazy use it is at 61% at 1030 PM and Next day till 333 PM it is at 18%. which is quite goodAlso 5G works good. in my XR there were hardly any networks but it’s antenna is really good 5G works like a charmCons :Heating was there in 160x but fixed in 1701. in 160x it heats up around cam area at the top mainlyNow after the fix.It heated up in 30-40% charging. then heated up again in 70%. at 80% it is cool. and at 100% it was cool Which is normal. trust me all iPhones heats up. even my XR heats up but is not observable because of the phone coverBattery took around 2 hours to charge(my battery was at 6% I put up on charging around 1 PM and at 245 or 3 PM it was around 100% now I have set the limit to 80% for good battery life)Later at around 100% battery when I used basic app. it heats up a little around cam area but the heat is very minor Since I am not using any cover so I felt itOverall after the fix. the heating is resolved completely. so you can be assured in this areaBattery backup is quite good. I am using 80% optimised battery option and y’day night I charged it and today till 826 PM it is at 27%. I watched video. shopping apps. social media apps heavilyIt keeps a check of your battery charging cycle. since I’m using 80% Limit. the charging has fasten up. it usually takes 35-40 min for 80% and then after it slows down the chargingDurability : I have checked few reviews. the back panel is weak it has high chances of breaking. the front glass is strong but could get scratchesUSE COVERS AND TEMPERED Overall for apple users. it is a beast in performance Do not panic if this gets heats up. it is an APP and OS issueI’m observing the apps and OS and the heating area but it is doing brilliant so farCam Quality : I am not liking the front camera pictures. it actually overdo the image. you might not like Selfies but there are plenty of options for video and camera You can shoot in 4K and Raw max. etcI’m not a selfie lover so it is kinda okay for me but you will def not like the after camera processing selfie imageSound Quality: The best. superior DOLBY sound quality I haven’t heard this much of brilliant sound in any of the devices in recent times Decent sound!! You will love the music and AVFYI : It fell down from a meter height but since I had a good case so nothing happened luckily pls make sure you have a good cover I saw videos the back panel is weak due to different assembly in this seriesPS : I’m not a heavy user I don't play games. so cannot review on the heat and battery while playing games \",\n",
       " ' Best performance smartphoneValue for moneyVery light phoneNo heating issuesBest phone if no budget problem for sure ',\n",
       " ' Battery 10/10Cemra 10/10Performance 10/10Disign 10/10Display 10/10Agar pese hai to isse Badiya phone nahi hai market ne Phil haal ',\n",
       " ' When you hold this phone in your hand then only you can realise feeling of holding a premium phone 🍎 ',\n",
       " \" I have purchased natural titanium and it's really awesome My first phone purchased with my hardwork Didn't sold my kidney for it 😂😂 \",\n",
       " ' Nice Phn bought under very good price Super sleek nice handy vulnerable best rate so budget in hatts of to apple for making value products ',\n",
       " ' The media could not be loaded Best camera everything feels like pro Outstanding performance battery life and a premium experiencePerforms everything fast and best for gaming and the natural taitanium colour looks so good it looks grey and diffrent from others ',\n",
       " ' We have received the iPhone 15 Pro Max. natural titanium color. and 256 GB storage capacity The phone is good-looking and fast It gets charged with the Apple 20W USB-C Power Adapter (purchased separately) It also charges well using my 3-year-old Mi wireless charger (Qi charging) Overall. we are happy with the iPhone ',\n",
       " ' This is my 1 st pro iPhone And so far I’m really impressed with the performance and simplicity of the product ',\n",
       " ' No heating issue till now running well with the new software update I have installed lots of apps and the ph is running well ',\n",
       " ' Till this date it is the fastest iPhone for gaming and all over daily usage Strongest iPhone till now ',\n",
       " ' Superb ',\n",
       " ' Good phone with all thing are there in it No need to go for samsungJust go and enjoy it ',\n",
       " nan,\n",
       " \" Best phone ever seen it's the best phone in the earth worth buyable for those who are 4G iphone users \",\n",
       " ' Got the info it is in stock from X (twitter) Usually always unavailablePremium phone from a premium company Original product ',\n",
       " ' The aluminium has made the phone very light weight you will immediately feel the difference coming from any previous pro max. worth the upgrade if you are coming from 11 series ',\n",
       " ' The battery is little problem need to charge once in a day But other then that all good picture quality is epic attached moon pic for example ',\n",
       " ' Battery life is quite bad . honestly the battery life should be a bit better I this range of price ',\n",
       " \" In the fast-paced world of smartphones. Apple continues to set the bar high with each new iteration of their iconic iPhone lineup The iPhone 15 Pro Max is no exception. boasting cutting-edge technology. stunning design. and a plethora of features that promise to elevate your mobile experience to new heights In this comprehensive review. we'll delve into the positive aspects as well as the potential drawbacks of Apple's latest flagship devicePositive Points:1 Revolutionary Design:The iPhone 15 Pro Max features a sleek and sophisticated design that pushes the boundaries of smartphone aesthetics With its edge-to-edge display. premium materials. and refined finish. it exudes elegance and craftsmanship The slim profile and ergonomic curves make it comfortable to hold. while the durable construction ensures longevity2 Stunning Display:At the heart of the iPhone 15 Pro Max is its mesmerizing display. which sets new standards for clarity. brightness. and color accuracy The ProMotion OLED panel delivers vibrant colors. deep blacks. and HDR content support for an immersive viewing experience Whether you're browsing the web. watching movies. or playing games. every detail comes to life with stunning realism3 Exceptional Performance:Powered by Apple's latest A-series chip. the iPhone 15 Pro Max offers unparalleled performance and efficiency From multitasking to gaming. every task is handled with lightning speed and responsiveness The advanced neural engine enhances machine learning capabilities. enabling intelligent features like enhanced photography and augmented reality experiences4 Revolutionary Camera System:The iPhone 15 Pro Max boasts a revolutionary camera system that redefines smartphone photography With advanced computational photography features. including improved Night mode. Deep Fusion. and Smart HDR. every shot is optimized for clarity and detail The ProRAW and ProRes video recording capabilities offer professional-grade flexibility and control. allowing users to unleash their creativity5 Enhanced Battery Life:Despite its powerful performance and advanced features. the iPhone 15 Pro Max delivers impressive battery life that keeps up with your busy lifestyle The optimized hardware and software integration ensure efficient power management. allowing you to stay connected and productive throughout the day With support for fast charging and wireless charging. recharging is faster and more convenient than everNegative Points:1 Premium Price Tag:As with previous iPhone models. the iPhone 15 Pro Max comes with a premium price tag that may be prohibitive for some consumers While the investment is justified by its advanced features and performance. it may not be accessible to budget-conscious buyers2 Lack of Major Design Changes:While the iPhone 15 Pro Max boasts an impressive design. some critics may argue that it lacks major design changes compared to its predecessors The overall form factor remains largely unchanged. leading to criticisms of stagnation in design innovation3 Dependency on Ecosystem:The iPhone 15 Pro Max is part of Apple's ecosystem. which offers seamless integration with other Apple devices and services While this can be a positive aspect for existing Apple users. it may pose challenges for users who prefer a more open ecosystem or who are heavily invested in competing platforms4 Incremental Upgrades:Despite its status as a flagship device. some users may perceive the iPhone 15 Pro Max as offering only incremental upgrades over previous models While the improvements in performance. camera technology. and battery life are notable. they may not be significant enough to justify upgrading for some usersConclusion:In conclusion. the Apple iPhone 15 Pro Max is a remarkable smartphone that pushes the boundaries of innovation and performance With its revolutionary design. stunning display. exceptional performance. revolutionary camera system. and enhanced battery life. it offers a truly immersive mobile experience While it may have some drawbacks such as its premium price tag. lack of major design changes. dependency on ecosystem. and incremental upgrades. its overall strengths far outweigh its weaknesses Whether you're a tech enthusiast. a professional photographer. or simply someone who demands the best from their smartphone. the iPhone 15 Pro Max delivers in spades \",\n",
       " ' Camera setting not available. so photos not better than Samsung m34. likely Caller tune should not set. call record not available Should not connect to laptop Download space not available ',\n",
       " \" The iPhone 15 pro max is the latest flagship smartphone from Apple. and it offers some impressive features and performance I have been using it for a month now. and here are my thoughts on itDesign and DisplayThe iPhone 15 pro max has a sleek and elegant design. with a stainless steel frame and a ceramic shield glass back It is available in four colors: silver. graphite. gold. and pacific blue The phone is water and dust resistant. and it supports wireless charging and MagSafe accessoriesThe display is a 67-inch OLED screen. with a resolution of 2778 x 1284 pixels and a refresh rate of 120 Hz The screen is bright. sharp. and smooth. and it supports HDR10 and Dolby Vision The notch at the top houses the Face ID sensor and the 12 MP selfie cameraCamera and BatteryThe iPhone 15 pro max has a triple rear camera system. consisting of a 12 MP wide-angle lens. a 12 MP telephoto lens. and a 12 MP ultra-wide-angle lens The camera can capture stunning photos and videos. with optical image stabilization. 5x optical zoom. night mode. portrait mode. and 4K video recording at 60 fps The camera also supports LiDAR scanning. which enables faster autofocus and better depth sensingThe battery life of the iPhone 15 pro max is excellent. as it can last for a whole day of heavy usage The phone supports fast charging. and it can reach 50% charge in 30 minutes with a 20W adapter The phone also supports wireless charging and MagSafe charging. which can deliver up to 15W of powerPerformance and SoftwareThe iPhone 15 pro max is powered by the A15 Bionic chip. which is the most advanced processor in the market The chip has a six-core CPU. a five-core GPU. and a 16-core neural engine The phone can handle any task or app with ease. and it delivers smooth and fast performance The phone has 6 GB of RAM and comes in three storage options: 128 GB. 256 GB. and 512 GBThe iPhone 15 pro max runs on iOS 15. which is the latest version of Apple's operating system iOS 15 offers many new features and improvements. such as widgets. app library. picture-in-picture. app clips. and more iOS 15 also enhances the privacy and security of the phone. with features like app tracking transparency. sign in with Apple. and Face IDConclusionThe iPhone 15 pro max is a premium and powerful smartphone. that offers a great user experience The phone has a beautiful design and display. a superb camera and battery. and a blazing-fast performance and software The phone is expensive. but it is worth the money for anyone who wants the best of the best I would highly recommend the iPhone 15 pro max to anyone who is looking for a high-end smartphone \",\n",
       " \" Packing is bad There's a tampered package within a new package The tampered package contained the phone But the phone is looking good \",\n",
       " \" I recently upgraded to the Apple 15 Pro Max. and while the enhanced camera is undoubtedly impressive. but I feel that it falls short of delivering a truly groundbreaking experience If you're already using the 13 pro or 14 Pro. there seems to be little incentive to make the leapThe camera improvements are noteworthy. capturing detail and clarity like never before However. beyond this feature. the 15 Pro Max doesn't offer a significant leap in terms of innovation Personally. I find the Pro versions more manageable in hand. and the Max variant. although boasting a larger screen. can be a bit unwieldyIn essence. the 15 Pro Max is a solid device with a stellar camera. but for those already enjoying the perks of the previous Pro models. the upgrade might not feel as compelling \",\n",
       " ' Camera quality is best ',\n",
       " ' Good product ',\n",
       " ' this is very bad iphone it lacks kanye west it is travis scott and has a jawline it is very ewwwwwwwww we cannot play cricket wws💀💀💀💀 ',\n",
       " ' Hitting problem watching video and charging ',\n",
       " ' Camera Quality not good ',\n",
       " ' If at all looking for pro model just because of lidar and action button and camera Its not value for money as the charging and performance are not upto the mark for both pro and non pro models I purchased iPhone 15 pro 128gb not happy ',\n",
       " ' Heats very much during charger Even if apple type c charger is usedNo much difference from 14 pro max ',\n",
       " ' Its hanging alot.sometimes it doesn’t charge and it act cranking the screen will not work ',\n",
       " \" iPhone battery and multimedia experience was very Poor Quality Don't buy this dumb iPhone 15 Pro Max 256 GB  \",\n",
       " \" Don't buy waste of money otherwise take samsung s25 ultra in so rich it is so because I buy it don't buy \",\n",
       " ' Hate it ssoooooo much it’s 🤢🤢🤢🤢🤢 just kidding it’s the best phone I have ever seen 😁😁😁😁😁 best battery life ',\n",
       " ' iphone 15pro max ios worst pro max I purchased I already have 13 and 14 pro max. Time to switch to Samsung The screeenshot you see shows 85% baterrey charge but it has been only 5 min after i made a full charge of the phone ',\n",
       " ' Compare to iphone 14 pro max 15 pro max is very worst Past 1 month i used 15 pro max i faced lot of heating issue and battery life is worst If you want to buy iphone i recommend 14 pro max ',\n",
       " \" The box had a different colour I order black Titaniumbox was black Titanium but phone was natural titanium inside It's heart wrenchingTrust shakenThe phone looks usedIt can happen with Apple product alsoit's a shock \",\n",
       " ' Got a defective product where the camera doest load ',\n",
       " ' box damaged. no new device smell Completely ruined my unboxing experience But the phone is amazing ',\n",
       " ' Hangs a lot! Also lagse when using camera In settings it shows GS5 PRO MAX VARIENT! 😭😭 I bought it for 60000 ',\n",
       " ' Ek number ghatiya phone dont waste 2lacs on this Instead pay me some money if you have too much  Dont buy ',\n",
       " ' Bro 1 v ladki nhi pategi iss phone se Bhaut bekar hai Mera paisa doob gya 2lakhsocha bhaut ladki pategi Bt ab jaa rha hu duke 390 lene syad usse pat jaye Amazon ',\n",
       " \" The media could not be loaded Didn't use a screen guard for a week and found a scratch on the screen What a stupid phone 160k phone and you will get a scratch without even holding the phone Better get a screen guard the day you receive the phone \",\n",
       " \" It seems to be highly expensive and on the other side it's features can't be matched up with AndroidIt doesn't have fast charging also unlike Android \",\n",
       " ' Very bad phone and exoensiceNot good camera nd performace of 10k phn redmi is better than this even nokia dont buy dont buy ',\n",
       " ' Nothing new in this phone . just getting things repeated in earlier model. Apple has nothing to offer new. seems forgotten their tag line . think different ']"
      ]
     },
     "execution_count": 12,
     "metadata": {},
     "output_type": "execute_result"
    }
   ],
   "source": [
    "train['cleaned'] = train['cleaned'].str.replace(r'\\s+', ' ', regex=True)\n",
    "\n",
    "\n",
    "\n",
    "train['cleaned'] = train['cleaned'].str.replace(r'[^\\w\\s#@/:%.,_-]', '', flags=re.UNICODE)\n",
    "train['cleaned'] = train['cleaned'].replace(r'\\.','', regex=True)\n",
    "train['cleaned'] = train['cleaned'].replace(',','.', regex=True)\n",
    "train['cleaned'].tolist()"
   ]
  },
  {
   "cell_type": "code",
   "execution_count": 13,
   "metadata": {
    "metadata": {}
   },
   "outputs": [],
   "source": [
    "train['cleaned'] = train['cleaned'].apply(lambda x:re.sub(r'#[\\w]+', '', str(x)) if pd.notnull(x) else x)"
   ]
  },
  {
   "cell_type": "code",
   "execution_count": 14,
   "metadata": {
    "metadata": {}
   },
   "outputs": [
    {
     "data": {
      "text/plain": [
       "0                                                                                                                                                                                                                                                                                                                                                                                  Great phone with perfect camera quality . battery life is 100 no over heating charging 8s decentBest in stabilityBrightness is goodCertainly awesome \n",
       "1     Just amazing product Actually I like to purchase online products but as it's so expensive. I tried to purchase from local store in Barasat but they told me 8 thousand more than online price (Only phone's price)😀 even without charger. screen protector and back coverI got it on online with everything only ₹1.52.000 Although it was a little difficult to buy. as you know it is not easy to transfer the higher amounts within short time 😀However. Thanks to Amazon team and specially thanks to my IDOL \"Steve Jobs\" 🙏🤗 \n",
       "2                                                                                                                                                                                                                                                                                                                                                                                            so lagg cant even play hill climb racing smoothly  dont waste money  nokia is better buy nokia 11 pro max that can run everything smoothly \n",
       "3                                                                                                                                                                                                                                                                                                                                                                                                                                                                               The media could not be loaded Phone is just amazing and \n",
       "4                                                                                                                                                                                                                                                                                                                                                                                                                                                                                                                                    NaN\n",
       "Name: cleaned, dtype: object"
      ]
     },
     "execution_count": 14,
     "metadata": {},
     "output_type": "execute_result"
    }
   ],
   "source": [
    "train['cleaned'].head()"
   ]
  },
  {
   "cell_type": "code",
   "execution_count": 15,
   "metadata": {
    "metadata": {}
   },
   "outputs": [],
   "source": [
    "train['cleaned']=train['cleaned'].apply(lambda cleaned_review:\"\".join([x for x in str(cleaned_review) if x not in string.punctuation]))"
   ]
  },
  {
   "cell_type": "code",
   "execution_count": 16,
   "metadata": {
    "metadata": {}
   },
   "outputs": [
    {
     "data": {
      "text/plain": [
       "0                                                                                                                                                                                                                                                                                                                                                                       Great phone with perfect camera quality  battery life is 100 no over heating charging 8s decentBest in stabilityBrightness is goodCertainly awesome \n",
       "1     Just amazing product Actually I like to purchase online products but as its so expensive I tried to purchase from local store in Barasat but they told me 8 thousand more than online price Only phones price😀 even without charger screen protector and back coverI got it on online with everything only ₹152000 Although it was a little difficult to buy as you know it is not easy to transfer the higher amounts within short time 😀However Thanks to Amazon team and specially thanks to my IDOL Steve Jobs 🙏🤗 \n",
       "2                                                                                                                                                                                                                                                                                                                                                                                so lagg cant even play hill climb racing smoothly  dont waste money  nokia is better buy nokia 11 pro max that can run everything smoothly \n",
       "3                                                                                                                                                                                                                                                                                                                                                                                                                                                                   The media could not be loaded Phone is just amazing and \n",
       "4                                                                                                                                                                                                                                                                                                                                                                                                                                                                                                                        nan\n",
       "Name: cleaned, dtype: object"
      ]
     },
     "execution_count": 16,
     "metadata": {},
     "output_type": "execute_result"
    }
   ],
   "source": [
    "train['cleaned'].head()"
   ]
  },
  {
   "cell_type": "code",
   "execution_count": 17,
   "metadata": {
    "metadata": {}
   },
   "outputs": [],
   "source": [
    "train['cleaned']=train['cleaned'].apply(lambda x:x.lower())"
   ]
  },
  {
   "cell_type": "code",
   "execution_count": 18,
   "metadata": {
    "metadata": {}
   },
   "outputs": [
    {
     "data": {
      "text/plain": [
       "0                                                                                                                                                                                                                                                                                                                                                                       great phone with perfect camera quality  battery life is 100 no over heating charging 8s decentbest in stabilitybrightness is goodcertainly awesome \n",
       "1     just amazing product actually i like to purchase online products but as its so expensive i tried to purchase from local store in barasat but they told me 8 thousand more than online price only phones price😀 even without charger screen protector and back coveri got it on online with everything only ₹152000 although it was a little difficult to buy as you know it is not easy to transfer the higher amounts within short time 😀however thanks to amazon team and specially thanks to my idol steve jobs 🙏🤗 \n",
       "2                                                                                                                                                                                                                                                                                                                                                                                so lagg cant even play hill climb racing smoothly  dont waste money  nokia is better buy nokia 11 pro max that can run everything smoothly \n",
       "3                                                                                                                                                                                                                                                                                                                                                                                                                                                                   the media could not be loaded phone is just amazing and \n",
       "4                                                                                                                                                                                                                                                                                                                                                                                                                                                                                                                        nan\n",
       "Name: cleaned, dtype: object"
      ]
     },
     "execution_count": 18,
     "metadata": {},
     "output_type": "execute_result"
    }
   ],
   "source": [
    "train['cleaned'].head()"
   ]
  },
  {
   "cell_type": "code",
   "execution_count": 19,
   "metadata": {
    "metadata": {}
   },
   "outputs": [],
   "source": [
    "import string\n",
    "def removePunct(text):\n",
    "    text = text.translate(str.maketrans({key: \" {0} \".format(key) for key in string.punctuation}))\n",
    "    \n",
    "    text_cleaned=\"\".join([x for x in text if x not in string.punctuation])\n",
    "    text_cleaned=re.sub(r'[^\\x00-\\x7F]+',' ', text_cleaned) ## Remove Ascii Characters\n",
    "    text_cleaned=re.sub(r'\\s+', ' ', text_cleaned).strip()\n",
    "    return text_cleaned"
   ]
  },
  {
   "cell_type": "code",
   "execution_count": 20,
   "metadata": {
    "metadata": {}
   },
   "outputs": [
    {
     "data": {
      "text/html": [
       "<div>\n",
       "<style scoped>\n",
       "    .dataframe tbody tr th:only-of-type {\n",
       "        vertical-align: middle;\n",
       "    }\n",
       "\n",
       "    .dataframe tbody tr th {\n",
       "        vertical-align: top;\n",
       "    }\n",
       "\n",
       "    .dataframe thead th {\n",
       "        text-align: right;\n",
       "    }\n",
       "</style>\n",
       "<table border=\"1\" class=\"dataframe\">\n",
       "  <thead>\n",
       "    <tr style=\"text-align: right;\">\n",
       "      <th></th>\n",
       "      <th>Review Title</th>\n",
       "      <th>Rating</th>\n",
       "      <th>Review Body</th>\n",
       "      <th>cleaned</th>\n",
       "    </tr>\n",
       "  </thead>\n",
       "  <tbody>\n",
       "    <tr>\n",
       "      <th>0</th>\n",
       "      <td>One of the best innovation from apple</td>\n",
       "      <td>5.0 out of 5 stars</td>\n",
       "      <td>\\nGreat phone with perfect camera quality , battery life is 100 no over heating charging 8s decent.Best in stability.Brightness is good.Certainly awesome\\n</td>\n",
       "      <td>great phone with perfect camera quality battery life is 100 no over heating charging 8s decentbest in stabilitybrightness is goodcertainly awesome</td>\n",
       "    </tr>\n",
       "    <tr>\n",
       "      <th>1</th>\n",
       "      <td>Just amazing!</td>\n",
       "      <td>5.0 out of 5 stars</td>\n",
       "      <td>\\nJust amazing product. Actually I like to purchase online products but as it's so expensive, I tried to purchase from local store in Barasat but they told me 8 thousand more than online price (Only phone's price)😀 even without charger, screen protector and back cover.I got it on online with everything only ₹1,52,000. Although it was a little difficult to buy, as you know it is not easy to transfer the higher amounts within short time. 😀However, Thanks to Amazon team and specially thanks to my IDOL \"Steve Jobs\" 🙏🤗\\n</td>\n",
       "      <td>just amazing product actually i like to purchase online products but as its so expensive i tried to purchase from local store in barasat but they told me 8 thousand more than online price only phones price even without charger screen protector and back coveri got it on online with everything only 152000 although it was a little difficult to buy as you know it is not easy to transfer the higher amounts within short time however thanks to amazon team and specially thanks to my idol steve jobs</td>\n",
       "    </tr>\n",
       "    <tr>\n",
       "      <th>2</th>\n",
       "      <td>good</td>\n",
       "      <td>5.0 out of 5 stars</td>\n",
       "      <td>\\nso lagg cant even play hill climb racing smoothly . dont waste money . nokia is better buy nokia 11 pro max that can run everything smoothly\\n</td>\n",
       "      <td>so lagg cant even play hill climb racing smoothly dont waste money nokia is better buy nokia 11 pro max that can run everything smoothly</td>\n",
       "    </tr>\n",
       "    <tr>\n",
       "      <th>3</th>\n",
       "      <td>Super beautiful</td>\n",
       "      <td>5.0 out of 5 stars</td>\n",
       "      <td>\\n\\n\\n\\n\\n                    The media could not be loaded.\\n                \\n\\n\\n\\nPhone is just amazing and\\n</td>\n",
       "      <td>the media could not be loaded phone is just amazing and</td>\n",
       "    </tr>\n",
       "    <tr>\n",
       "      <th>4</th>\n",
       "      <td>Best camera quality</td>\n",
       "      <td>5.0 out of 5 stars</td>\n",
       "      <td>NaN</td>\n",
       "      <td>nan</td>\n",
       "    </tr>\n",
       "  </tbody>\n",
       "</table>\n",
       "</div>"
      ],
      "text/plain": [
       "                            Review Title              Rating  \\\n",
       "0  One of the best innovation from apple  5.0 out of 5 stars   \n",
       "1                          Just amazing!  5.0 out of 5 stars   \n",
       "2                                   good  5.0 out of 5 stars   \n",
       "3                        Super beautiful  5.0 out of 5 stars   \n",
       "4                    Best camera quality  5.0 out of 5 stars   \n",
       "\n",
       "                                                                                                                                                                                                                                                                                                                                                                                                                                                                                                                                 Review Body  \\\n",
       "0                                                                                                                                                                                                                                                                                                                                                                                \\nGreat phone with perfect camera quality , battery life is 100 no over heating charging 8s decent.Best in stability.Brightness is good.Certainly awesome\\n   \n",
       "1  \\nJust amazing product. Actually I like to purchase online products but as it's so expensive, I tried to purchase from local store in Barasat but they told me 8 thousand more than online price (Only phone's price)😀 even without charger, screen protector and back cover.I got it on online with everything only ₹1,52,000. Although it was a little difficult to buy, as you know it is not easy to transfer the higher amounts within short time. 😀However, Thanks to Amazon team and specially thanks to my IDOL \"Steve Jobs\" 🙏🤗\\n   \n",
       "2                                                                                                                                                                                                                                                                                                                                                                                           \\nso lagg cant even play hill climb racing smoothly . dont waste money . nokia is better buy nokia 11 pro max that can run everything smoothly\\n   \n",
       "3                                                                                                                                                                                                                                                                                                                                                                                                                          \\n\\n\\n\\n\\n                    The media could not be loaded.\\n                \\n\\n\\n\\nPhone is just amazing and\\n   \n",
       "4                                                                                                                                                                                                                                                                                                                                                                                                                                                                                                                                        NaN   \n",
       "\n",
       "                                                                                                                                                                                                                                                                                                                                                                                                                                                                                                           cleaned  \n",
       "0                                                                                                                                                                                                                                                                                                                                                               great phone with perfect camera quality battery life is 100 no over heating charging 8s decentbest in stabilitybrightness is goodcertainly awesome  \n",
       "1  just amazing product actually i like to purchase online products but as its so expensive i tried to purchase from local store in barasat but they told me 8 thousand more than online price only phones price even without charger screen protector and back coveri got it on online with everything only 152000 although it was a little difficult to buy as you know it is not easy to transfer the higher amounts within short time however thanks to amazon team and specially thanks to my idol steve jobs  \n",
       "2                                                                                                                                                                                                                                                                                                                                                                         so lagg cant even play hill climb racing smoothly dont waste money nokia is better buy nokia 11 pro max that can run everything smoothly  \n",
       "3                                                                                                                                                                                                                                                                                                                                                                                                                                                          the media could not be loaded phone is just amazing and  \n",
       "4                                                                                                                                                                                                                                                                                                                                                                                                                                                                                                              nan  "
      ]
     },
     "execution_count": 20,
     "metadata": {},
     "output_type": "execute_result"
    }
   ],
   "source": [
    "train['cleaned']=train['cleaned'].apply(lambda x:removePunct(x))\n",
    "train.head()"
   ]
  },
  {
   "cell_type": "code",
   "execution_count": 21,
   "metadata": {
    "metadata": {}
   },
   "outputs": [],
   "source": [
    "tokenizer = RegexpTokenizer(r'\\w+')"
   ]
  },
  {
   "cell_type": "code",
   "execution_count": 22,
   "metadata": {
    "metadata": {}
   },
   "outputs": [],
   "source": [
    "train1 = train.cleaned[0]"
   ]
  },
  {
   "cell_type": "code",
   "execution_count": 23,
   "metadata": {
    "metadata": {}
   },
   "outputs": [],
   "source": [
    "tokens = tokenizer.tokenize(train1.lower())"
   ]
  },
  {
   "cell_type": "code",
   "execution_count": 24,
   "metadata": {
    "metadata": {}
   },
   "outputs": [
    {
     "name": "stdout",
     "output_type": "stream",
     "text": [
      "146 characters in string vs 21 words in a list\n",
      "['great', 'phone', 'with', 'perfect', 'camera', 'quality', 'battery', 'life', 'is', '100']\n"
     ]
    }
   ],
   "source": [
    "print('{} characters in string vs {} words in a list'.format(len(train1),len(tokens)))\n",
    "print(tokens[:10])"
   ]
  },
  {
   "cell_type": "code",
   "execution_count": 25,
   "metadata": {
    "metadata": {}
   },
   "outputs": [
    {
     "name": "stderr",
     "output_type": "stream",
     "text": [
      "[nltk_data] Downloading package stopwords to\n",
      "[nltk_data]     C:\\Users\\shash\\AppData\\Roaming\\nltk_data...\n",
      "[nltk_data]   Package stopwords is already up-to-date!\n"
     ]
    },
    {
     "data": {
      "text/plain": [
       "True"
      ]
     },
     "execution_count": 25,
     "metadata": {},
     "output_type": "execute_result"
    }
   ],
   "source": [
    "import nltk\n",
    "nltk.download('stopwords')\n",
    "nltk_stpwd = stopwords.words('english')"
   ]
  },
  {
   "cell_type": "code",
   "execution_count": 26,
   "metadata": {
    "metadata": {}
   },
   "outputs": [
    {
     "name": "stdout",
     "output_type": "stream",
     "text": [
      "179\n",
      "['i', 'me', 'my', 'myself', 'we', 'our', 'ours', 'ourselves', 'you', \"you're\"]\n"
     ]
    }
   ],
   "source": [
    "print(len(set(nltk_stpwd)))\n",
    "print(nltk_stpwd[:10])"
   ]
  },
  {
   "cell_type": "code",
   "execution_count": 27,
   "metadata": {
    "metadata": {}
   },
   "outputs": [
    {
     "name": "stdout",
     "output_type": "stream",
     "text": [
      "['great', 'phone', 'perfect', 'camera', 'quality', 'battery', 'life', '100', 'heating', 'charging']\n"
     ]
    }
   ],
   "source": [
    "stopped_tokens = [token for token in tokens if not token in nltk_stpwd]\n",
    "print(stopped_tokens[:10])"
   ]
  },
  {
   "cell_type": "code",
   "execution_count": 41,
   "metadata": {
    "metadata": {}
   },
   "outputs": [],
   "source": [
    "sb_stemmer = SnowballStemmer('english') #snowball stemmer is a more advanced stemming algorithm than the simpler Porter stemmer.\n",
    "# example \n",
    "# Stem a list of words\n",
    "# words = [\"running\", \"jumped\", \"walking\", \"talked\"]\n",
    "# stems = [stemmer.stem(word) for word in words]\n",
    "# print(stems)  # Output: ['run', 'jump', 'walk', 'talk']"
   ]
  },
  {
   "cell_type": "code",
   "execution_count": 29,
   "metadata": {
    "metadata": {}
   },
   "outputs": [
    {
     "name": "stdout",
     "output_type": "stream",
     "text": [
      "['great', 'phone', 'perfect', 'camera', 'qualiti', 'batteri', 'life', '100', 'heat', 'charg', '8s', 'decentbest', 'stabilitybright', 'goodcertain', 'awesom']\n"
     ]
    }
   ],
   "source": [
    "stemmed_tokens = [sb_stemmer.stem(token) for token in stopped_tokens]\n",
    "print(stemmed_tokens)"
   ]
  },
  {
   "cell_type": "code",
   "execution_count": 30,
   "metadata": {
    "metadata": {}
   },
   "outputs": [],
   "source": [
    "num_reviews = df.shape[0]\n",
    "doc_set = [train.cleaned[i] for i in range(num_reviews)]"
   ]
  },
  {
   "cell_type": "code",
   "execution_count": 31,
   "metadata": {
    "metadata": {}
   },
   "outputs": [
    {
     "name": "stdout",
     "output_type": "stream",
     "text": [
      "['amaz', 'product', 'actual', 'like', 'purchas', 'onlin', 'product', 'expens', 'tri', 'purchas', 'local', 'store', 'barasat', 'told', '8', 'thousand', 'onlin', 'price', 'phone', 'price', 'even', 'without', 'charger', 'screen', 'protector', 'back', 'coveri', 'got', 'onlin', 'everyth', '152000', 'although', 'littl', 'difficult', 'buy', 'know', 'easi', 'transfer', 'higher', 'amount', 'within', 'short', 'time', 'howev', 'thank', 'amazon', 'team', 'special', 'thank', 'idol', 'steve', 'job']\n"
     ]
    }
   ],
   "source": [
    "texts = []\n",
    "\n",
    "for doc in doc_set:\n",
    "    tokens = tokenizer.tokenize(doc.lower())\n",
    "    stopped_tokens = [token for token in tokens if not token in nltk_stpwd]\n",
    "    stemmed_tokens = [sb_stemmer.stem(token) for token in stopped_tokens]\n",
    "    texts.append(stemmed_tokens)\n",
    "    \n",
    "print(texts[1])"
   ]
  },
  {
   "cell_type": "code",
   "execution_count": 32,
   "metadata": {
    "metadata": {}
   },
   "outputs": [
    {
     "name": "stdout",
     "output_type": "stream",
     "text": [
      "Dictionary<980 unique tokens: ['100', '8s', 'awesom', 'batteri', 'camera']...>\n"
     ]
    }
   ],
   "source": [
    "texts_dict = corpora.Dictionary(texts)\n",
    "texts_dict.save('elec_review.dict') \n",
    "print(texts_dict)"
   ]
  },
  {
   "cell_type": "code",
   "execution_count": 33,
   "metadata": {
    "metadata": {}
   },
   "outputs": [
    {
     "name": "stdout",
     "output_type": "stream",
     "text": [
      "Dictionary<0 unique tokens: []>\n",
      "top terms:\n",
      "[]\n"
     ]
    }
   ],
   "source": [
    "import operator\n",
    "\n",
    "texts_dict.filter_extremes(no_below=30, no_above=0.15) # inlace filter\n",
    "print(texts_dict)\n",
    "print(\"top terms:\")\n",
    "print(sorted(texts_dict.token2id.items(), key=operator.itemgetter(1), reverse = False)[:10])"
   ]
  },
  {
   "cell_type": "code",
   "execution_count": 34,
   "metadata": {
    "metadata": {}
   },
   "outputs": [
    {
     "data": {
      "text/plain": [
       "87"
      ]
     },
     "execution_count": 34,
     "metadata": {},
     "output_type": "execute_result"
    }
   ],
   "source": [
    "corpus = [texts_dict.doc2bow(text) for text in texts]\n",
    "len(corpus)"
   ]
  },
  {
   "cell_type": "code",
   "execution_count": 35,
   "metadata": {
    "metadata": {}
   },
   "outputs": [
    {
     "name": "stdout",
     "output_type": "stream",
     "text": [
      "CPU times: total: 0 ns\n",
      "Wall time: 1e+03 µs\n"
     ]
    }
   ],
   "source": [
    "%%time\n",
    "gensim.corpora.MmCorpus.serialize('vivomobiles.mm', corpus)"
   ]
  },
  {
   "cell_type": "code",
   "execution_count": 36,
   "metadata": {
    "metadata": {}
   },
   "outputs": [],
   "source": [
    "# import streamlit as st\n",
    "import pandas as pd\n",
    "from vaderSentiment.vaderSentiment import SentimentIntensityAnalyzer\n",
    "\n",
    "\n",
    "def sentiBotAnalyzer(input):\n",
    "    sentiment = SentimentIntensityAnalyzer()\n",
    "    statement = sentiment.polarity_scores(input)\n",
    "\n",
    "    return  statement['pos'], statement['neg'], statement['neu'], statement['compound']\n",
    "\n",
    "def analyzeCompound(comp):\n",
    "    x, y, z, comp = sentiBotAnalyzer(comp)\n",
    "    if comp < 0:\n",
    "        return \"Negative\"\n",
    "    elif 0 <= comp <= 0.4:\n",
    "        return \"Neutral\"\n",
    "    elif 0.4 < comp:\n",
    "        return \"Postive\""
   ]
  },
  {
   "cell_type": "code",
   "execution_count": 37,
   "metadata": {
    "metadata": {}
   },
   "outputs": [],
   "source": [
    "train['sentiment'] = train['cleaned'].apply(lambda x: analyzeCompound(x)) "
   ]
  },
  {
   "cell_type": "code",
   "execution_count": 38,
   "metadata": {
    "metadata": {}
   },
   "outputs": [
    {
     "data": {
      "text/html": [
       "<div>\n",
       "<style scoped>\n",
       "    .dataframe tbody tr th:only-of-type {\n",
       "        vertical-align: middle;\n",
       "    }\n",
       "\n",
       "    .dataframe tbody tr th {\n",
       "        vertical-align: top;\n",
       "    }\n",
       "\n",
       "    .dataframe thead th {\n",
       "        text-align: right;\n",
       "    }\n",
       "</style>\n",
       "<table border=\"1\" class=\"dataframe\">\n",
       "  <thead>\n",
       "    <tr style=\"text-align: right;\">\n",
       "      <th></th>\n",
       "      <th>Review Title</th>\n",
       "      <th>Rating</th>\n",
       "      <th>Review Body</th>\n",
       "      <th>cleaned</th>\n",
       "      <th>sentiment</th>\n",
       "    </tr>\n",
       "  </thead>\n",
       "  <tbody>\n",
       "    <tr>\n",
       "      <th>41</th>\n",
       "      <td>Very light</td>\n",
       "      <td>5.0 out of 5 stars</td>\n",
       "      <td>\\nBest performance smartphoneValue for moneyVery light phoneNo heating issuesBest phone if no budget problem for sure\\n</td>\n",
       "      <td>best performance smartphonevalue for moneyvery light phoneno heating issuesbest phone if no budget problem for sure</td>\n",
       "      <td>Postive</td>\n",
       "    </tr>\n",
       "    <tr>\n",
       "      <th>39</th>\n",
       "      <td>Love this pro max</td>\n",
       "      <td>5.0 out of 5 stars</td>\n",
       "      <td>\\nbest iphone ever used\\n</td>\n",
       "      <td>best iphone ever used</td>\n",
       "      <td>Postive</td>\n",
       "    </tr>\n",
       "    <tr>\n",
       "      <th>29</th>\n",
       "      <td>Worth every penny, awesome battery life</td>\n",
       "      <td>5.0 out of 5 stars</td>\n",
       "      <td>\\nIf you already have 14 Pro or Pro Max then don't upgrade, but if you've any other Pro or non Pro models go for it. If you need an iPhone with 24-26hr battery life on a single charge then go for Pro Max models. No doubt Apple's 4K 60fps ProRes is really awesome, and the all new type-c port is the best thing Apple has done in years. Also all the type-c cables included in the box are woven design, now expecting this will not turn grey after few months of use.\\n</td>\n",
       "      <td>if you already have 14 pro or pro max then dont upgrade but if youve any other pro or non pro models go for it if you need an iphone with 2426hr battery life on a single charge then go for pro max models no doubt apples 4k 60fps prores is really awesome and the all new typec port is the best thing apple has done in years also all the typec cables included in the box are woven design now expecting this will not turn grey after few months of use</td>\n",
       "      <td>Postive</td>\n",
       "    </tr>\n",
       "    <tr>\n",
       "      <th>45</th>\n",
       "      <td>Best budget Camera mobile under this price must buy fir good performance</td>\n",
       "      <td>5.0 out of 5 stars</td>\n",
       "      <td>\\nNice Phn bought under very good price  Super sleek nice handy  vulnerable best rate so budget in hatts of to apple for making value products\\n</td>\n",
       "      <td>nice phn bought under very good price super sleek nice handy vulnerable best rate so budget in hatts of to apple for making value products</td>\n",
       "      <td>Postive</td>\n",
       "    </tr>\n",
       "    <tr>\n",
       "      <th>44</th>\n",
       "      <td>Nice phone.</td>\n",
       "      <td>5.0 out of 5 stars</td>\n",
       "      <td>\\nI have purchased natural titanium and it's really awesome. My first phone purchased with my hardwork. Didn't sold my kidney for it 😂😂\\n</td>\n",
       "      <td>i have purchased natural titanium and its really awesome my first phone purchased with my hardwork didnt sold my kidney for it</td>\n",
       "      <td>Postive</td>\n",
       "    </tr>\n",
       "    <tr>\n",
       "      <th>73</th>\n",
       "      <td>Good phone but quality is bad</td>\n",
       "      <td>1.0 out of 5 stars</td>\n",
       "      <td>\\nDon't buy waste of money otherwise take samsung s25 ultra in so rich it is so because I buy it don't buy\\n</td>\n",
       "      <td>dont buy waste of money otherwise take samsung s25 ultra in so rich it is so because i buy it dont buy</td>\n",
       "      <td>Postive</td>\n",
       "    </tr>\n",
       "    <tr>\n",
       "      <th>16</th>\n",
       "      <td>Real Pro phone</td>\n",
       "      <td>5.0 out of 5 stars</td>\n",
       "      <td>\\nA17 Pro , 3Nm ,Ray tracing , 5x zoom nailed it completely. A truly freaking flagship mobile so far. iOs 18 will make it more powerful.\\n</td>\n",
       "      <td>a17 pro 3nm ray tracing 5x zoom nailed it completely a truly freaking flagship mobile so far ios 18 will make it more powerful</td>\n",
       "      <td>Postive</td>\n",
       "    </tr>\n",
       "    <tr>\n",
       "      <th>78</th>\n",
       "      <td>Defective product</td>\n",
       "      <td>1.0 out of 5 stars</td>\n",
       "      <td>\\nGot a defective product where the camera doest load\\n</td>\n",
       "      <td>got a defective product where the camera doest load</td>\n",
       "      <td>Negative</td>\n",
       "    </tr>\n",
       "    <tr>\n",
       "      <th>62</th>\n",
       "      <td>Packing is bad</td>\n",
       "      <td>4.0 out of 5 stars</td>\n",
       "      <td>\\nPacking is bad. There's a tampered package within a new package. The tampered package contained the phone. But the phone is looking good\\n</td>\n",
       "      <td>packing is bad theres a tampered package within a new package the tampered package contained the phone but the phone is looking good</td>\n",
       "      <td>Neutral</td>\n",
       "    </tr>\n",
       "    <tr>\n",
       "      <th>55</th>\n",
       "      <td>Better than the last Apple Flagship!</td>\n",
       "      <td>5.0 out of 5 stars</td>\n",
       "      <td>\\nGot the info it is in stock from X (twitter). Usually always unavailable.Premium phone from a premium company. Original product.\\n</td>\n",
       "      <td>got the info it is in stock from x twitter usually always unavailablepremium phone from a premium company original product</td>\n",
       "      <td>Neutral</td>\n",
       "    </tr>\n",
       "  </tbody>\n",
       "</table>\n",
       "</div>"
      ],
      "text/plain": [
       "                                                                Review Title  \\\n",
       "41                                                                Very light   \n",
       "39                                                         Love this pro max   \n",
       "29                                   Worth every penny, awesome battery life   \n",
       "45  Best budget Camera mobile under this price must buy fir good performance   \n",
       "44                                                               Nice phone.   \n",
       "73                                             Good phone but quality is bad   \n",
       "16                                                            Real Pro phone   \n",
       "78                                                         Defective product   \n",
       "62                                                            Packing is bad   \n",
       "55                                      Better than the last Apple Flagship!   \n",
       "\n",
       "                Rating  \\\n",
       "41  5.0 out of 5 stars   \n",
       "39  5.0 out of 5 stars   \n",
       "29  5.0 out of 5 stars   \n",
       "45  5.0 out of 5 stars   \n",
       "44  5.0 out of 5 stars   \n",
       "73  1.0 out of 5 stars   \n",
       "16  5.0 out of 5 stars   \n",
       "78  1.0 out of 5 stars   \n",
       "62  4.0 out of 5 stars   \n",
       "55  5.0 out of 5 stars   \n",
       "\n",
       "                                                                                                                                                                                                                                                                                                                                                                                                                                                                         Review Body  \\\n",
       "41                                                                                                                                                                                                                                                                                                                                                           \\nBest performance smartphoneValue for moneyVery light phoneNo heating issuesBest phone if no budget problem for sure\\n   \n",
       "39                                                                                                                                                                                                                                                                                                                                                                                                                                                         \\nbest iphone ever used\\n   \n",
       "29  \\nIf you already have 14 Pro or Pro Max then don't upgrade, but if you've any other Pro or non Pro models go for it. If you need an iPhone with 24-26hr battery life on a single charge then go for Pro Max models. No doubt Apple's 4K 60fps ProRes is really awesome, and the all new type-c port is the best thing Apple has done in years. Also all the type-c cables included in the box are woven design, now expecting this will not turn grey after few months of use.\\n   \n",
       "45                                                                                                                                                                                                                                                                                                                                  \\nNice Phn bought under very good price  Super sleek nice handy  vulnerable best rate so budget in hatts of to apple for making value products\\n   \n",
       "44                                                                                                                                                                                                                                                                                                                                         \\nI have purchased natural titanium and it's really awesome. My first phone purchased with my hardwork. Didn't sold my kidney for it 😂😂\\n   \n",
       "73                                                                                                                                                                                                                                                                                                                                                                      \\nDon't buy waste of money otherwise take samsung s25 ultra in so rich it is so because I buy it don't buy\\n   \n",
       "16                                                                                                                                                                                                                                                                                                                                        \\nA17 Pro , 3Nm ,Ray tracing , 5x zoom nailed it completely. A truly freaking flagship mobile so far. iOs 18 will make it more powerful.\\n   \n",
       "78                                                                                                                                                                                                                                                                                                                                                                                                                           \\nGot a defective product where the camera doest load\\n   \n",
       "62                                                                                                                                                                                                                                                                                                                                      \\nPacking is bad. There's a tampered package within a new package. The tampered package contained the phone. But the phone is looking good\\n   \n",
       "55                                                                                                                                                                                                                                                                                                                                              \\nGot the info it is in stock from X (twitter). Usually always unavailable.Premium phone from a premium company. Original product.\\n   \n",
       "\n",
       "                                                                                                                                                                                                                                                                                                                                                                                                                                                            cleaned  \\\n",
       "41                                                                                                                                                                                                                                                                                                                                              best performance smartphonevalue for moneyvery light phoneno heating issuesbest phone if no budget problem for sure   \n",
       "39                                                                                                                                                                                                                                                                                                                                                                                                                                            best iphone ever used   \n",
       "29  if you already have 14 pro or pro max then dont upgrade but if youve any other pro or non pro models go for it if you need an iphone with 2426hr battery life on a single charge then go for pro max models no doubt apples 4k 60fps prores is really awesome and the all new typec port is the best thing apple has done in years also all the typec cables included in the box are woven design now expecting this will not turn grey after few months of use   \n",
       "45                                                                                                                                                                                                                                                                                                                       nice phn bought under very good price super sleek nice handy vulnerable best rate so budget in hatts of to apple for making value products   \n",
       "44                                                                                                                                                                                                                                                                                                                                   i have purchased natural titanium and its really awesome my first phone purchased with my hardwork didnt sold my kidney for it   \n",
       "73                                                                                                                                                                                                                                                                                                                                                           dont buy waste of money otherwise take samsung s25 ultra in so rich it is so because i buy it dont buy   \n",
       "16                                                                                                                                                                                                                                                                                                                                   a17 pro 3nm ray tracing 5x zoom nailed it completely a truly freaking flagship mobile so far ios 18 will make it more powerful   \n",
       "78                                                                                                                                                                                                                                                                                                                                                                                                              got a defective product where the camera doest load   \n",
       "62                                                                                                                                                                                                                                                                                                                             packing is bad theres a tampered package within a new package the tampered package contained the phone but the phone is looking good   \n",
       "55                                                                                                                                                                                                                                                                                                                                       got the info it is in stock from x twitter usually always unavailablepremium phone from a premium company original product   \n",
       "\n",
       "   sentiment  \n",
       "41   Postive  \n",
       "39   Postive  \n",
       "29   Postive  \n",
       "45   Postive  \n",
       "44   Postive  \n",
       "73   Postive  \n",
       "16   Postive  \n",
       "78  Negative  \n",
       "62   Neutral  \n",
       "55   Neutral  "
      ]
     },
     "execution_count": 38,
     "metadata": {},
     "output_type": "execute_result"
    }
   ],
   "source": [
    "train.sample(10)"
   ]
  },
  {
   "cell_type": "code",
   "execution_count": 39,
   "metadata": {
    "metadata": {}
   },
   "outputs": [],
   "source": [
    "from collections import Counter\n",
    "import seaborn as sns"
   ]
  },
  {
   "cell_type": "code",
   "execution_count": 40,
   "metadata": {
    "metadata": {}
   },
   "outputs": [
    {
     "data": {
      "text/plain": [
       "Text(0.5, 1.0, 'Distribution of Sentiment')"
      ]
     },
     "execution_count": 40,
     "metadata": {},
     "output_type": "execute_result"
    },
    {
     "data": {
      "image/png": "[encoded data removed]",
      "text/plain": [
       "<Figure size 640x480 with 1 Axes>"
      ]
     },
     "metadata": {},
     "output_type": "display_data"
    }
   ],
   "source": [
    "sns.countplot(train['sentiment']).set_title(\"Distribution of Sentiment\")"
   ]
  },
  {
   "cell_type": "code",
   "execution_count": 11,
   "metadata": {
    "metadata": {}
   },
   "outputs": [
    {
     "data": {
      "image/png": "[encoded data removed]",
      "text/plain": [
       "<Figure size 640x480 with 1 Axes>"
      ]
     },
     "metadata": {},
     "output_type": "display_data"
    }
   ],
   "source": [
    "import matplotlib.pyplot as plt\n",
    "\n",
    "category = [\"A\", \"B\", \"C\", \"D\",\"E\"]\n",
    "values = [20, 40, 80, 100, 120]\n",
    "# label = [\"A\", \"B\", \"C\", \"D\",\"E\"]\n",
    "plt.bar(range(len(category)), values)\n",
    "# plt.bar(category, values)\n",
    "plt.xlabel(\"Category\")\n",
    "plt.ylabel(\"Values\")\n",
    "# plt.yticks(values, label)\n",
    "plt.title(\"Simple Bar Chart\")\n",
    "\n",
    "plt.show()"
   ]
  }
 ],
 "metadata": {
  "kernelspec": {
   "display_name": "Python 3",
   "language": "python",
   "name": "python3"
  },
  "language_info": {
   "codemirror_mode": {
    "name": "ipython",
    "version": 3
   },
   "file_extension": ".py",
   "mimetype": "text/x-python",
   "name": "python",
   "nbconvert_exporter": "python",
   "pygments_lexer": "ipython3",
   "version": "3.12.4"
  }
 },
 "nbformat": 4,
 "nbformat_minor": 2
}
