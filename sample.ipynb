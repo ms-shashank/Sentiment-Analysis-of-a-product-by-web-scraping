{
 "cells": [
  {
   "cell_type": "code",
   "execution_count": 3,
   "metadata": {},
   "outputs": [],
   "source": [
    "from prodUrlFetcher import top_product_url\n",
    "import requests\n",
    "from bs4 import BeautifulSoup\n",
    "import time\n",
    "import pandas as pd\n",
    "import matplotlib.pyplot as plt\n",
    "import csv"
   ]
  },
  {
   "cell_type": "code",
   "execution_count": 4,
   "metadata": {},
   "outputs": [],
   "source": [
    "userAgents = [\n",
    "        'Mozilla/5.0 (Windows NT 10.0; Win64; x64) AppleWebKit/537.36 (KHTML, like Gecko) Chrome/123.0.0.0 Safari/537.36',\n",
    "        'Mozilla/5.0 (Windows NT 10.0; Win64; x64; rv:124.0) Gecko/20100101 Firefox/124.0',\n",
    "        'Mozilla/5.0 (Windows NT 10.0; Win64; x64) AppleWebKit/537.36 (KHTML, like Gecko) Chrome/123.0.0.0 Safari/537.36 Edg/123.0.2420.81',\n",
    "        'Mozilla/5.0 (Windows NT 10.0; Win64; x64) AppleWebKit/537.36 (KHTML, like Gecko) Chrome/123.0.0.0 Safari/537.36 OPR/109.0.0.0',\n",
    "        'Mozilla/5.0 (Macintosh; Intel Mac OS X 10_15_7) AppleWebKit/537.36 (KHTML, like Gecko) Chrome/123.0.0.0 Safari/537.36',\n",
    "        'Mozilla/5.0 (Macintosh; Intel Mac OS X 14.4; rv:124.0) Gecko/20100101 Firefox/124.0',\n",
    "        'Mozilla/5.0 (Macintosh; Intel Mac OS X 14_4_1) AppleWebKit/605.1.15 (KHTML, like Gecko) Version/17.4.1 Safari/605.1.15',\n",
    "        'Mozilla/5.0 (Macintosh; Intel Mac OS X 14_4_1) AppleWebKit/537.36 (KHTML, like Gecko) Chrome/123.0.0.0 Safari/537.36 OPR/109.0.0.0',\n",
    "        'Mozilla/5.0 (X11; Linux x86_64) AppleWebKit/537.36 (KHTML, like Gecko) Chrome/123.0.0.0 Safari/537.36',\n",
    "        'Mozilla/5.0 (X11; Linux i686; rv:124.0) Gecko/20100101 Firefox/124.0'\n",
    "        'Mozilla/5.0 (Macintosh; Intel Mac OS X 10_15_7) AppleWebKit/537.36 (KHTML, like Gecko) Chrome/115.0.0.0 Safari/537.36',\n",
    "        'Mozilla/5.0 (Windows NT 10.0; Win64; x64) AppleWebKit/537.36 (KHTML, like Gecko) Chrome/114.0.0.0 Safari/537.36',\n",
    "        'Mozilla/5.0 (Windows NT 10.0; Win64; x64; rv:109.0) Gecko/20100101 Firefox/116.0',\n",
    "        'Mozilla/5.0 (Windows NT 10.0; Win64; x64; rv:109.0) Gecko/20100101 Firefox/115.0',\n",
    "        'Mozilla/5.0 (Macintosh; Intel Mac OS X 10_15_7) AppleWebKit/537.36 (KHTML, like Gecko) Chrome/114.0.0.0 Safari/537.36',\n",
    "        'Mozilla/5.0 (X11; Linux x86_64) AppleWebKit/537.36 (KHTML, like Gecko) Chrome/115.0.0.0 Safari/537.36',\n",
    "        'Mozilla/5.0 (Windows NT 10.0; Win64; x64) AppleWebKit/537.36 (KHTML, like Gecko) Chrome/116.0.0.0 Safari/537.36',\n",
    "        'Mozilla/5.0 (X11; Linux x86_64; rv:109.0) Gecko/20100101 Firefox/115.0',\n",
    "        'Mozilla/5.0 (X11; Linux x86_64; rv:109.0) Gecko/20100101 Firefox/116.0',\n",
    "        'Mozilla/5.0 (Windows NT 10.0; Win64; x64) AppleWebKit/537.36 (KHTML, like Gecko) Chrome/115.0.0.0 Safari/537.36 Edg/115.0.1901.188',\n",
    "        'Mozilla/5.0 (Windows NT 10.0; Win64; x64) AppleWebKit/537.36 (KHTML, like Gecko) Chrome/51.0.2704.79 Safari/537.36 Edge/14.14393'\n",
    "        ]"
   ]
  },
  {
   "cell_type": "code",
   "execution_count": 5,
   "metadata": {},
   "outputs": [],
   "source": [
    "rating = []\n",
    "reviews = []\n",
    "fiveStarRating = []\n",
    "fourStarRating = []\n",
    "threeStarRating = []\n",
    "twoStarRating = []\n",
    "oneStarRating = []"
   ]
  },
  {
   "cell_type": "code",
   "execution_count": 6,
   "metadata": {},
   "outputs": [
    {
     "name": "stdout",
     "output_type": "stream",
     "text": [
      "https://www.amazon.in/Apple-iPhone-Pro-Max-256/dp/B0CHX68YG9/ref=sr_1_1?dib=eyJ2IjoiMSJ9.XqEI3jFpzXkt1EB1X4u2LTfRae_WYjAoQ87jOQJj3nUm4dNwa2HNimSIR7rIdyzE2mk8eMQpCyP0rSJeeGc_RohPGNsAtQk4u1iS5pwRcLsuB9X1Wm1zKffeNelyLgovrf5aiL9ahBODlRh0Dp-mFGVrjK_cfsWqvN6kq_rC_-Y0XRvTvgF1rRXbYl8juuOHSI5FcHEXUqk5rNsNflBsIFf1KNb_jV9rcESeeGn3UXQ.fLEO8wkZt34Xi-yxThwpiOwv7RPsQyoAxdA-TLUw9BQ&dib_tag=se&keywords=iphone+15+pro+max&qid=1714472550&sr=8-1\n",
      "['78%', '9%', '3%', '2%', '8%']\n"
     ]
    }
   ],
   "source": [
    "def scraping_top_url():\n",
    "    user_input = input(\"Enter a product: \")\n",
    "    url = top_product_url(user_input)\n",
    "    print(url)\n",
    "    scraping_rating(url)\n",
    "    # scraping_reviews(url)\n",
    "\n",
    "def scraping_rating(rating_url):\n",
    "    \n",
    "    max_tries = 21\n",
    "    attempts = 0\n",
    "    response = None\n",
    "\n",
    "    while attempts < max_tries and not response:\n",
    "        for i in userAgents:\n",
    "            try:\n",
    "                response = requests.get(rating_url, headers={'User_Agent': i})\n",
    "                if response.status_code == 200:\n",
    "                    break\n",
    "            except requests.RequestException as e:\n",
    "                print(f\"An error occurred: {e}\")\n",
    "            time.sleep(1)\n",
    "        attempts += 1\n",
    "    \n",
    "    if response.ok:\n",
    "        soup = BeautifulSoup(response.content, 'html.parser')\n",
    "        x = soup.find_all(\"td\", class_ = \"a-text-right a-nowrap a-nowrap\")\n",
    "        for td in x:\n",
    "            rating_percentage = td.find_all(\"a\", class_ = \"a-size-base a-link-normal\")\n",
    "            zero_percentage = td.find_all(\"span\", class_ = \"a-size-base\")\n",
    "            for zero in zero_percentage:\n",
    "                rating.append(zero.get_text())\n",
    "            for percentage in rating_percentage:\n",
    "                rating.append(percentage.get_text())\n",
    "        print(rating)\n",
    "\n",
    "    # df = pd.DataFrame(rating, columns=[\"Stars\"])\n",
    "    # df.to_csv(\"Ratings_of_prod\", index=False)\n",
    "        \n",
    "\n",
    "scraping_top_url()"
   ]
  },
  {
   "cell_type": "code",
   "execution_count": 7,
   "metadata": {},
   "outputs": [
    {
     "ename": "AttributeError",
     "evalue": "'list' object has no attribute 'strip'",
     "output_type": "error",
     "traceback": [
      "\u001b[1;31m---------------------------------------------------------------------------\u001b[0m",
      "\u001b[1;31mAttributeError\u001b[0m                            Traceback (most recent call last)",
      "Cell \u001b[1;32mIn[7], line 2\u001b[0m\n\u001b[0;32m      1\u001b[0m \u001b[38;5;66;03m# Convert percentages to float for graphing\u001b[39;00m\n\u001b[1;32m----> 2\u001b[0m star_percentages \u001b[38;5;241m=\u001b[39m [\u001b[38;5;28mfloat\u001b[39m(\u001b[43mrating\u001b[49m\u001b[38;5;241;43m.\u001b[39;49m\u001b[43mstrip\u001b[49m(\u001b[38;5;124m'\u001b[39m\u001b[38;5;124m%\u001b[39m\u001b[38;5;124m'\u001b[39m)) \u001b[38;5;28;01mfor\u001b[39;00m rates \u001b[38;5;129;01min\u001b[39;00m rating]\n\u001b[0;32m      4\u001b[0m st \u001b[38;5;241m=\u001b[39m [\u001b[38;5;124m'\u001b[39m\u001b[38;5;124m5 stars\u001b[39m\u001b[38;5;124m'\u001b[39m, \u001b[38;5;124m'\u001b[39m\u001b[38;5;124m4 stars\u001b[39m\u001b[38;5;124m'\u001b[39m, \u001b[38;5;124m'\u001b[39m\u001b[38;5;124m3 stars\u001b[39m\u001b[38;5;124m'\u001b[39m, \u001b[38;5;124m'\u001b[39m\u001b[38;5;124m2 stars\u001b[39m\u001b[38;5;124m'\u001b[39m, \u001b[38;5;124m'\u001b[39m\u001b[38;5;124m1 star\u001b[39m\u001b[38;5;124m'\u001b[39m]\n\u001b[0;32m      6\u001b[0m \u001b[38;5;28;01mwith\u001b[39;00m \u001b[38;5;28mopen\u001b[39m(\u001b[38;5;124m'\u001b[39m\u001b[38;5;124mstar_ratings.csv\u001b[39m\u001b[38;5;124m'\u001b[39m, \u001b[38;5;124m'\u001b[39m\u001b[38;5;124mw\u001b[39m\u001b[38;5;124m'\u001b[39m, newline\u001b[38;5;241m=\u001b[39m\u001b[38;5;124m'\u001b[39m\u001b[38;5;124m'\u001b[39m) \u001b[38;5;28;01mas\u001b[39;00m file:\n",
      "\u001b[1;31mAttributeError\u001b[0m: 'list' object has no attribute 'strip'"
     ]
    }
   ],
   "source": [
    "# Convert percentages to float for graphing\n",
    "star_percentages = [float(rates.strip('%')) for rates in rating]\n",
    "\n",
    "st = ['5 stars', '4 stars', '3 stars', '2 stars', '1 star']\n",
    "\n",
    "with open('star_ratings.csv', 'w', newline='') as file:\n",
    "    writer = csv.writer(file)\n",
    "    writer.writerow(['Star', 'Percentage'])\n",
    "    for star, percentage in zip(st, star_percentages):\n",
    "        writer.writerow([star, percentage])"
   ]
  }
 ],
 "metadata": {
  "kernelspec": {
   "display_name": "Python 3",
   "language": "python",
   "name": "python3"
  },
  "language_info": {
   "codemirror_mode": {
    "name": "ipython",
    "version": 3
   },
   "file_extension": ".py",
   "mimetype": "text/x-python",
   "name": "python",
   "nbconvert_exporter": "python",
   "pygments_lexer": "ipython3",
   "version": "3.12.3"
  }
 },
 "nbformat": 4,
 "nbformat_minor": 2
}
